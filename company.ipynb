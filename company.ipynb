{
 "cells": [
  {
   "cell_type": "code",
   "execution_count": 10,
   "metadata": {},
   "outputs": [],
   "source": [
    "from company_helpers import *\n",
    "\n",
    "class company:\n",
    "    def __init__(self, ticker):\n",
    "        self.ticker = ticker\n",
    "        self.name = None\n",
    "        self.historic_prices = None\n",
    "        self.industry = None\n",
    "        self.comparables = None\n",
    "        self.forward_pe_ratio = None\n",
    "        self.trailing_pe_ratio = None\n",
    "        self.peg_ratio = None\n",
    "        self.eps = None \n",
    "        self.beta = None\n",
    "        self.market_cap = None\n",
    "        self.dividend_yield = None\n",
    "        self.profit_margin = None\n",
    "        self.operating_margin = None\n",
    "        self.roa = None\n",
    "        self.roe = None\n",
    "        self.revenue = None\n",
    "        self.revenue_per_share = None\n",
    "        self.quarterly_revenue_growth = None\n",
    "        self.gross_profit = None\n",
    "        self.ebitda = None\n",
    "        self.net_income = None\n",
    "        self.quarterly_earnings_growth = None\n",
    "        self.cash = None\n",
    "        self.cash_per_share = None\n",
    "        self.debt = None\n",
    "        self.debt_to_equity = None\n",
    "        self.current_ratio = None\n",
    "        self.book_value = None\n",
    "        self.operating_cash_flow = None\n",
    "        self.free_cash_flow = None\n",
    "        self.shares_outstanding = None\n",
    "        self.ev = None\n",
    "        self.price_to_book = None\n",
    "        self.yahoo_recommendation = None\n",
    "        self.two_hundred_day_av = None\n",
    "        self.fifty_day_av = None\n",
    "        self.analyst_mean_target = None\n",
    "        self.analyst_median_target = None\n",
    "        self.num_analyst_opinions = None\n",
    "        \n",
    "    def analyze(self):\n",
    "        self.fetch_data()\n",
    "        comparables = []\n",
    "        for comp in self.comparables:\n",
    "            firm = company(comp)\n",
    "            if firm.fetch_data() != 'failure':\n",
    "                comparables.append(firm)\n",
    "        \n",
    "        # Health Metrics\n",
    "        health_score = 0\n",
    "        if self.profit_margin > np.nanmean(list(map(lambda x: x.profit_margin, comparables))):\n",
    "            health_score += 1\n",
    "        if self.operating_margin > np.nanmean(list(map(lambda x: x.operating_margin, comparables))):\n",
    "            health_score += 1\n",
    "        if self.roa > np.nanmean([i for i in list(map(lambda x: x.roa, comparables)) if i != None]):\n",
    "            health_score += 1\n",
    "        if self.roe > np.nanmean([i for i in list(map(lambda x: x.roe, comparables)) if i != None]):\n",
    "            health_score += 1\n",
    "        print(\"Health Score: {} / 4\".format(health_score))\n",
    "        growth_score = 0\n",
    "        if self.quarterly_earnings_growth > np.nanmean([i for i in list(map(lambda x: x.quarterly_earnings_growth, comparables)) if i != None]):\n",
    "            growth_score += 1\n",
    "        if self.quarterly_earnings_growth > np.nanmean([i for i in list(map(lambda x: x.quarterly_earnings_growth, comparables)) if i != None]):\n",
    "            growth_score += 1\n",
    "        print(\"Growth Score: {} / 2\".format(growth_score))\n",
    "        value_score = 0\n",
    "        if self.price_to_book < np.nanmean([i for i in list(map(lambda x: x.price_to_book, comparables)) if i != None]):\n",
    "            value_score += 1\n",
    "        print(\"Value Score: {} / 1\".format(value_score))\n",
    "        multiples_valuation = multiples_analysis(self, comparables, verbose=False)\n",
    "        \n",
    "        \n",
    "        \n",
    "        \n",
    "    def fetch_data(self, debug=False):\n",
    "        if debug:\n",
    "            print(\"Fetching Data for \" + self.ticker)\n",
    "        p = re.compile(r'root\\.App\\.main = (.*);')\n",
    "        results = {}\n",
    "        \n",
    "        self.industry =  get_company_industry(self.ticker)\n",
    "        industries = get_company_industry_dict()\n",
    "        self.comparables = industries[self.industry]\n",
    "        if self.ticker in self.comparables:\n",
    "            self.comparables.remove(self.ticker)\n",
    "        \n",
    "        with requests.Session() as s:\n",
    "            r = s.get('https://finance.yahoo.com/quote/{}/key-statistics?p={}'.format(self.ticker,self.ticker))\n",
    "            try:\n",
    "                data = json.loads(p.findall(r.text)[0])\n",
    "                key_stats = data['context']['dispatcher']['stores']['QuoteSummaryStore']\n",
    "            except:\n",
    "                return \"failure\"\n",
    "            self.shares_outstanding = key_stats['defaultKeyStatistics']['sharesOutstanding'].get('raw') if 'sharesOutstanding' in key_stats['defaultKeyStatistics'].keys() else None\n",
    "            if self.shares_outstanding == None:\n",
    "                return \"failure\"\n",
    "            self.forward_pe_ratio = key_stats['summaryDetail']['forwardPE'].get('raw') if 'forwardPE' in key_stats['summaryDetail'].keys() else None\n",
    "            self.trailing_pe_ratio = key_stats['summaryDetail']['trailingPE'].get('raw') if 'trailingPE' in key_stats['summaryDetail'].keys() else None\n",
    "            self.peg_ratio = key_stats['defaultKeyStatistics']['pegRatio'].get('raw') if 'pegRatio' in key_stats['defaultKeyStatistics'].keys() else None\n",
    "            self.eps = key_stats['defaultKeyStatistics']['trailingEps'].get('raw') if 'trailingEps' in key_stats['defaultKeyStatistics'].keys() else None         \n",
    "            self.beta = key_stats['defaultKeyStatistics']['beta'].get('raw') if 'beta' in key_stats['defaultKeyStatistics'].keys() else None  \n",
    "            self.market_cap = key_stats['summaryDetail']['marketCap'].get('raw')\n",
    "            self.dividend_yield = key_stats['summaryDetail']['dividendYield'].get('raw')\n",
    "            self.profit_margin = key_stats['defaultKeyStatistics']['profitMargins'].get('raw') if 'profitMargins' in key_stats['defaultKeyStatistics'].keys() else None  \n",
    "            self.operating_margin = key_stats['financialData']['operatingMargins'].get('raw') if 'operatingMargins' in key_stats['financialData'].keys() else None \n",
    "            self.roa = key_stats['financialData']['returnOnAssets'].get('raw') if 'returnOnAssets' in key_stats['financialData'].keys() else None\n",
    "            self.roe = key_stats['financialData']['returnOnEquity'].get('raw') if 'returnOnEquity' in key_stats['financialData'].keys() else None\n",
    "            self.revenue = key_stats['financialData']['totalRevenue'].get('raw') if 'totalRevenue' in key_stats['financialData'].keys() else None\n",
    "            self.revenue_per_share = key_stats['financialData']['revenuePerShare'].get('raw')\n",
    "            self.quarterly_revenue_growth = key_stats['financialData']['revenueGrowth'].get('raw') if 'revenueGrowth' in key_stats['financialData'].keys() else None\n",
    "            self.gross_profit = key_stats['financialData']['grossProfits'].get('raw')\n",
    "            self.ebitda = key_stats['financialData']['ebitda'].get('raw')\n",
    "            self.net_income = key_stats['defaultKeyStatistics']['netIncomeToCommon'].get('raw') if 'netIncomeToCommon' in key_stats['defaultKeyStatistics'].keys() else None\n",
    "            self.quarterly_earnings_growth = key_stats['defaultKeyStatistics']['earningsQuarterlyGrowth'].get('raw') if 'earningsQuarterlyGrowth' in key_stats['defaultKeyStatistics'].keys() else None\n",
    "            self.cash = key_stats['financialData']['totalCash'].get('raw')\n",
    "            self.cash_per_share = key_stats['financialData']['totalCashPerShare'].get('raw')\n",
    "            self.debt = key_stats['financialData']['totalDebt'].get('raw')\n",
    "            self.debt_to_equity = key_stats['financialData']['debtToEquity'].get('raw') if 'debtToEquity' in key_stats['financialData'].keys() else None\n",
    "            self.current_ratio = key_stats['financialData']['currentRatio'].get('raw') if 'currentRatio' in key_stats['financialData'].keys() else None\n",
    "            self.book_value = key_stats['defaultKeyStatistics']['bookValue'].get('raw') if 'bookValue' in key_stats['defaultKeyStatistics'].keys() else None \n",
    "            self.operating_cash_flow = key_stats['financialData']['operatingCashflow'].get('raw') if 'operatingCashflow' in key_stats['financialData'].keys() else None\n",
    "            self.free_cash_flow = key_stats['financialData']['freeCashflow'].get('raw')  if 'freeCashflow' in key_stats['financialData'].keys() else None\n",
    "            self.ev = key_stats['defaultKeyStatistics']['enterpriseValue'].get('raw')\n",
    "            self.price_to_book = key_stats['defaultKeyStatistics']['priceToBook'].get('raw')\n",
    "            self.yahoo_recommendation = key_stats['financialData'].get('recommendationKey')\n",
    "            self.two_hundred_day_av = key_stats['summaryDetail']['twoHundredDayAverage'].get('raw')\n",
    "            self.fifty_day_av = key_stats['summaryDetail']['fiftyDayAverage'].get('raw')\n",
    "            self.analyst_mean_target = key_stats['financialData']['targetMeanPrice'].get('raw')\n",
    "            self.analyst_median_target = key_stats['financialData']['targetMedianPrice'].get('raw')\n",
    "            self.num_analyst_opinions = key_stats['financialData']['numberOfAnalystOpinions'].get('raw')\n",
    "            "
   ]
  },
  {
   "cell_type": "code",
   "execution_count": null,
   "metadata": {},
   "outputs": [
    {
     "name": "stdout",
     "output_type": "stream",
     "text": [
      "61264998400\n",
      "845404032\n",
      "29729000\n",
      "-4536000\n",
      "-9904000\n",
      "43000000\n",
      "397200000\n",
      "-11659000\n",
      "-80048000\n",
      "-8577936\n"
     ]
    }
   ],
   "source": [
    "a = company(\"MSFT\")\n",
    "a.analyze()"
   ]
  },
  {
   "cell_type": "code",
   "execution_count": 41,
   "metadata": {},
   "outputs": [
    {
     "name": "stdout",
     "output_type": "stream",
     "text": [
      "Health Score: 4 / 4\n",
      "Growth Score: 0 / 2\n",
      "Value Score: 0 / 1\n"
     ]
    }
   ],
   "source": [
    "a = company(\"NKE\")\n",
    "a.analyze()"
   ]
  },
  {
   "cell_type": "code",
   "execution_count": 11,
   "metadata": {},
   "outputs": [
    {
     "name": "stdout",
     "output_type": "stream",
     "text": [
      "Health Score: 4 / 4\n",
      "Growth Score: 0 / 2\n",
      "Value Score: 0 / 1\n"
     ]
    }
   ],
   "source": [
    "a = company(\"TSLA\")\n",
    "a.analyze()"
   ]
  },
  {
   "cell_type": "code",
   "execution_count": 9,
   "metadata": {},
   "outputs": [
    {
     "name": "stdout",
     "output_type": "stream",
     "text": [
      "Failed to find the company industry.\n"
     ]
    },
    {
     "data": {
      "text/plain": [
       "0"
      ]
     },
     "execution_count": 9,
     "metadata": {},
     "output_type": "execute_result"
    }
   ],
   "source": [
    "get_company_industry('AAPL')"
   ]
  },
  {
   "cell_type": "code",
   "execution_count": null,
   "metadata": {},
   "outputs": [],
   "source": []
  }
 ],
 "metadata": {
  "kernelspec": {
   "display_name": "tensorflow",
   "language": "python",
   "name": "tensorflow"
  },
  "language_info": {
   "codemirror_mode": {
    "name": "ipython",
    "version": 3
   },
   "file_extension": ".py",
   "mimetype": "text/x-python",
   "name": "python",
   "nbconvert_exporter": "python",
   "pygments_lexer": "ipython3",
   "version": "3.7.6"
  }
 },
 "nbformat": 4,
 "nbformat_minor": 4
}
