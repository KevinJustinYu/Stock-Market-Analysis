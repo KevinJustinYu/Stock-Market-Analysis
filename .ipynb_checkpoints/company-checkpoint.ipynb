{
 "cells": [
  {
   "cell_type": "code",
   "execution_count": 1,
   "metadata": {},
   "outputs": [],
   "source": [
    "from portfolio_helpers import *"
   ]
  },
  {
   "cell_type": "code",
   "execution_count": 2,
   "metadata": {},
   "outputs": [
    {
     "name": "stdout",
     "output_type": "stream",
     "text": [
      "Fetching Data for MSFT\n",
      "Fetching Data for MSFT\n",
      "Fetching Data for AKAM\n",
      "Fetching Data for ALTR\n",
      "Fetching Data for APPN\n",
      "Fetching Data for ATEN\n",
      "Fetching Data for BAND\n",
      "Fetching Data for BB\n",
      "Fetching Data for BKI\n",
      "Fetching Data for BL\n",
      "Fetching Data for BOX\n",
      "Fetching Data for CLSK\n",
      "Failed to get industry for CLSK\n",
      "Fetching Data for CRWD\n",
      "Fetching Data for CSGS\n",
      "Fetching Data for CYBR\n",
      "Fetching Data for CYRN\n",
      "Failed to get industry for CYRN\n",
      "Fetching Data for DAVA\n",
      "Fetching Data for DBX\n",
      "Fetching Data for DOX\n",
      "Fetching Data for EEFT\n",
      "Fetching Data for EPAY\n",
      "Fetching Data for EVOP\n",
      "Fetching Data for EVTC\n",
      "Fetching Data for FEYE\n",
      "Fetching Data for FFIV\n",
      "Fetching Data for FIVN\n",
      "Fetching Data for FNJN\n",
      "Failed to get industry for FNJN\n",
      "Fetching Data for FTNT\n",
      "Fetching Data for GDDY\n",
      "Fetching Data for GDS\n",
      "Fetching Data for GSKY\n",
      "Fetching Data for IIIV\n",
      "Fetching Data for JCOM\n",
      "Failed to get industry for JCOM\n",
      "Fetching Data for LLNW\n",
      "Fetching Data for MDB\n",
      "Fetching Data for MFGP\n",
      "Failed to get industry for MFGP\n",
      "Fetching Data for MIME\n",
      "Fetching Data for NET\n",
      "Fetching Data for NEWR\n",
      "Fetching Data for NLOK\n",
      "Fetching Data for NTCT\n",
      "Fetching Data for NTNX\n",
      "Fetching Data for OKTA\n",
      "Fetching Data for OPRA\n",
      "Fetching Data for ORCL\n",
      "Fetching Data for PAGS\n",
      "Fetching Data for PANW\n",
      "Fetching Data for PFPT\n",
      "Fetching Data for PING\n",
      "Fetching Data for PLAN\n",
      "Fetching Data for PRTH\n",
      "Fetching Data for RDWR\n",
      "Fetching Data for RPAY\n",
      "Fetching Data for SAIL\n",
      "Fetching Data for SCWX\n",
      "Fetching Data for SNPS\n",
      "Fetching Data for SPLK\n",
      "Fetching Data for SPSC\n",
      "Fetching Data for SQ\n",
      "Fetching Data for SWI\n",
      "Fetching Data for SYNC\n",
      "Fetching Data for TAOP\n",
      "Failed to get industry for TAOP\n",
      "Fetching Data for TCX\n",
      "Failed to get industry for TCX\n",
      "Fetching Data for TENB\n",
      "Fetching Data for TLND\n",
      "Failed to get industry for TLND\n",
      "Fetching Data for TUFN\n",
      "Fetching Data for USIO\n",
      "Failed to get industry for USIO\n",
      "Fetching Data for VERI\n",
      "Fetching Data for VHC\n",
      "Failed to get industry for VHC\n",
      "Fetching Data for VMW\n",
      "Fetching Data for VRNS\n",
      "Fetching Data for VRNT\n",
      "Fetching Data for VRSN\n",
      "Fetching Data for WEX\n",
      "Fetching Data for WIX\n",
      "Fetching Data for YEXT\n",
      "Fetching Data for ZIXI\n",
      "Failed to get industry for ZIXI\n",
      "Fetching Data for ZS\n",
      "Fetching Data for ZUO\n",
      "Health Score: 4 / 4\n",
      "Growth Score: 0 / 2\n",
      "Value Score: 1 / 1\n"
     ]
    },
    {
     "data": {
      "text/plain": [
       "5"
      ]
     },
     "execution_count": 2,
     "metadata": {},
     "output_type": "execute_result"
    }
   ],
   "source": [
    "msft = Company(\"MSFT\")\n",
    "msft.fetch_data()\n",
    "msft.analyze()"
   ]
  },
  {
   "cell_type": "code",
   "execution_count": 2,
   "metadata": {},
   "outputs": [
    {
     "name": "stdout",
     "output_type": "stream",
     "text": [
      "[*********************100%***********************]  1 of 1 completed\n",
      "Failed to find the company industry.\n",
      "Expected Market Return: 0.010778898427873412\n",
      "Expected Stdev of market return: 0.05409263386046319\n",
      "Fetching Portfolio Data\n",
      "[*********************100%***********************]  1 of 1 completed\n",
      "Getting data for BABA\n",
      "Expected return: 0.044766598907684994\n",
      "Standard Deviation: 0.10404248851802232\n",
      "Beta: 1.821218\n",
      "Alpha: 0.025135875070670236\n",
      "[*********************100%***********************]  1 of 1 completed\n",
      "Failed to find the company industry.\n",
      "Getting data for AMZN\n",
      "Expected return: 0.04008643082973722\n",
      "Standard Deviation: 0.08624392998667599\n",
      "Beta: 1.250818\n",
      "Alpha: 0.026603990655981458\n",
      "[*********************100%***********************]  1 of 1 completed\n",
      "Failed to find the company industry.\n",
      "Getting data for AAPL\n",
      "Expected return: 0.03317929648147814\n",
      "Standard Deviation: 0.10201638383631007\n",
      "Beta: 1.173542\n",
      "Alpha: 0.02052980646263472\n",
      "[*********************100%***********************]  1 of 1 completed\n",
      "Getting data for BIDU\n",
      "Expected return: -0.005155410745598454\n",
      "Standard Deviation: 0.1316338955681409\n",
      "Beta: 1.638506\n",
      "Alpha: -0.022816700493059606\n",
      "[*********************100%***********************]  1 of 1 completed\n",
      "Getting data for SFUN\n",
      "Expected return: -0.06550236903769889\n",
      "Standard Deviation: 0.2110215732341542\n",
      "Beta: 1.332023\n",
      "Alpha: -0.07986010965829012\n",
      "[*********************100%***********************]  1 of 1 completed\n",
      "Getting data for REGN\n",
      "Expected return: 0.01370901446256631\n",
      "Standard Deviation: 0.1156576993498493\n",
      "Beta: 0.517354\n",
      "Alpha: 0.00813250824531229\n",
      "[*********************100%***********************]  1 of 1 completed\n",
      "Getting data for TSLA\n",
      "Expected return: 0.03241836584936292\n",
      "Standard Deviation: 0.2073231964489141\n",
      "Beta: 0.734774\n",
      "Alpha: 0.024498311535920657\n",
      "[*********************100%***********************]  1 of 1 completed\n",
      "Getting data for DDD\n",
      "Expected return: 0.005018447121114445\n",
      "Standard Deviation: 0.212108025934966\n",
      "Beta: 1.798952\n",
      "Alpha: -0.014372273763505286\n",
      "[*********************100%***********************]  1 of 1 completed\n",
      "Getting data for NVDA\n",
      "Expected return: 0.07088597259094268\n",
      "Standard Deviation: 0.14475767091136996\n",
      "Beta: 1.467583\n",
      "Alpha: 0.05506704449946892\n",
      "[ 0.28154278  0.43367217  0.23917559 -0.15965746 -0.2174443   0.07371354\n",
      "  0.06910543 -0.03873318  0.31862543]\n"
     ]
    },
    {
     "data": {
      "text/plain": [
       "[265.44361539789713,\n",
       " 36.23582378409583,\n",
       " 172.73361018668425,\n",
       " -305.0390906123115,\n",
       " -35356.796599115616,\n",
       " 25.955928611993446,\n",
       " 18.517990315706204,\n",
       " -996.9929753477137,\n",
       " 221.99996232278355]"
      ]
     },
     "execution_count": 2,
     "metadata": {},
     "output_type": "execute_result"
    }
   ],
   "source": [
    "portfolio = create_portfolio([\"BABA\", \"AMZN\", \"AAPL\", \"BIDU\", \"SFUN\", \"REGN\", \"TSLA\", \"DDD\", \"NVDA\"])\n",
    "w = portfolio.calculate_optimal_weights()\n",
    "print(w)\n",
    "calculate_quantity_shares_per_ticker(portfolio, 200000)"
   ]
  },
  {
   "cell_type": "code",
   "execution_count": 7,
   "metadata": {},
   "outputs": [
    {
     "data": {
      "text/plain": [
       "array([0.11448706, 0.13235663, 0.1453855 , 0.36572849, 0.24204231])"
      ]
     },
     "execution_count": 7,
     "metadata": {},
     "output_type": "execute_result"
    }
   ],
   "source": [
    "w"
   ]
  },
  {
   "cell_type": "code",
   "execution_count": 4,
   "metadata": {},
   "outputs": [
    {
     "name": "stdout",
     "output_type": "stream",
     "text": [
      "0.4748825765244376\n",
      "0.47215141125452564\n"
     ]
    }
   ],
   "source": [
    "[atvi, sne, ea, msft, cost]\n",
    "w = [0.26934317, 0.12867101, 0.47506942, 0.04599636, 0.080920049]\n",
    "print(p.calculate_sharpe_ratio(w, .0955, cov_matrix=cov_matrix))\n",
    "print(p.calculate_sharpe_ratio([0.2, 0.1, 0.5, 0.1, 0.1], 0.0955, cov_matrix=cov_matrix))"
   ]
  },
  {
   "cell_type": "code",
   "execution_count": 7,
   "metadata": {},
   "outputs": [
    {
     "ename": "TypeError",
     "evalue": "can only concatenate str (not \"float\") to str",
     "output_type": "error",
     "traceback": [
      "\u001b[1;31m---------------------------------------------------------------------------\u001b[0m",
      "\u001b[1;31mTypeError\u001b[0m                                 Traceback (most recent call last)",
      "\u001b[1;32m<ipython-input-7-f3fce1bd81d7>\u001b[0m in \u001b[0;36m<module>\u001b[1;34m\u001b[0m\n\u001b[0;32m      1\u001b[0m \u001b[0mw\u001b[0m \u001b[1;33m=\u001b[0m \u001b[1;33m[\u001b[0m\u001b[1;36m0.4\u001b[0m\u001b[1;33m,\u001b[0m \u001b[1;36m0.4\u001b[0m\u001b[1;33m,\u001b[0m \u001b[1;36m0.3\u001b[0m\u001b[1;33m]\u001b[0m\u001b[1;33m\u001b[0m\u001b[1;33m\u001b[0m\u001b[0m\n\u001b[1;32m----> 2\u001b[1;33m \u001b[0mp\u001b[0m\u001b[1;33m.\u001b[0m\u001b[0mcalculate_sharpe_ratio\u001b[0m\u001b[1;33m(\u001b[0m\u001b[0mw\u001b[0m\u001b[1;33m,\u001b[0m \u001b[1;36m0.095\u001b[0m\u001b[1;33m,\u001b[0m \u001b[0mcov_matrix\u001b[0m\u001b[1;33m=\u001b[0m\u001b[0mcov_matrix\u001b[0m\u001b[1;33m)\u001b[0m\u001b[1;33m\u001b[0m\u001b[1;33m\u001b[0m\u001b[0m\n\u001b[0m",
      "\u001b[1;32m~\\Documents\\Projects\\Coding Projects\\Stock Market\\Stock-Market-Analysis\\portfolio.py\u001b[0m in \u001b[0;36mcalculate_sharpe_ratio\u001b[1;34m(self, weights, expected_market_return, cov_matrix, corr_matrix)\u001b[0m\n\u001b[0;32m     16\u001b[0m \u001b[1;33m\u001b[0m\u001b[0m\n\u001b[0;32m     17\u001b[0m     \u001b[1;32mdef\u001b[0m \u001b[0mcalculate_sharpe_ratio\u001b[0m\u001b[1;33m(\u001b[0m\u001b[0mself\u001b[0m\u001b[1;33m,\u001b[0m \u001b[0mweights\u001b[0m\u001b[1;33m,\u001b[0m \u001b[0mexpected_market_return\u001b[0m\u001b[1;33m,\u001b[0m \u001b[0mcov_matrix\u001b[0m\u001b[1;33m=\u001b[0m\u001b[1;32mNone\u001b[0m\u001b[1;33m,\u001b[0m \u001b[0mcorr_matrix\u001b[0m\u001b[1;33m=\u001b[0m\u001b[1;32mNone\u001b[0m\u001b[1;33m)\u001b[0m\u001b[1;33m:\u001b[0m\u001b[1;33m\u001b[0m\u001b[1;33m\u001b[0m\u001b[0m\n\u001b[1;32m---> 18\u001b[1;33m         \u001b[0mexpected_returns\u001b[0m \u001b[1;33m=\u001b[0m \u001b[0mself\u001b[0m\u001b[1;33m.\u001b[0m\u001b[0mcalculate_expected_return\u001b[0m\u001b[1;33m(\u001b[0m\u001b[0mweights\u001b[0m\u001b[1;33m,\u001b[0m \u001b[0mexpected_market_return\u001b[0m\u001b[1;33m)\u001b[0m\u001b[1;33m\u001b[0m\u001b[1;33m\u001b[0m\u001b[0m\n\u001b[0m\u001b[0;32m     19\u001b[0m         \u001b[0mexpected_stdev\u001b[0m \u001b[1;33m=\u001b[0m \u001b[0mself\u001b[0m\u001b[1;33m.\u001b[0m\u001b[0mcalculate_expected_stdev\u001b[0m\u001b[1;33m(\u001b[0m\u001b[0mweights\u001b[0m\u001b[1;33m,\u001b[0m \u001b[0mcov_matrix\u001b[0m\u001b[1;33m=\u001b[0m\u001b[0mcov_matrix\u001b[0m\u001b[1;33m,\u001b[0m \u001b[0mcorr_matrix\u001b[0m\u001b[1;33m=\u001b[0m\u001b[0mcorr_matrix\u001b[0m\u001b[1;33m)\u001b[0m\u001b[1;33m\u001b[0m\u001b[1;33m\u001b[0m\u001b[0m\n\u001b[0;32m     20\u001b[0m         \u001b[1;32mreturn\u001b[0m \u001b[0mexpected_returns\u001b[0m \u001b[1;33m/\u001b[0m \u001b[0mexpected_stdev\u001b[0m\u001b[1;33m\u001b[0m\u001b[1;33m\u001b[0m\u001b[0m\n",
      "\u001b[1;32m~\\Documents\\Projects\\Coding Projects\\Stock Market\\Stock-Market-Analysis\\portfolio.py\u001b[0m in \u001b[0;36mcalculate_expected_return\u001b[1;34m(self, weights, expected_market_return)\u001b[0m\n\u001b[0;32m     21\u001b[0m \u001b[1;33m\u001b[0m\u001b[0m\n\u001b[0;32m     22\u001b[0m     \u001b[1;32mdef\u001b[0m \u001b[0mcalculate_expected_return\u001b[0m\u001b[1;33m(\u001b[0m\u001b[0mself\u001b[0m\u001b[1;33m,\u001b[0m \u001b[0mweights\u001b[0m\u001b[1;33m,\u001b[0m \u001b[0mexpected_market_return\u001b[0m\u001b[1;33m)\u001b[0m\u001b[1;33m:\u001b[0m\u001b[1;33m\u001b[0m\u001b[1;33m\u001b[0m\u001b[0m\n\u001b[1;32m---> 23\u001b[1;33m         \u001b[0mself\u001b[0m\u001b[1;33m.\u001b[0m\u001b[0mcheck_weights_valid\u001b[0m\u001b[1;33m(\u001b[0m\u001b[0mweights\u001b[0m\u001b[1;33m)\u001b[0m\u001b[1;33m\u001b[0m\u001b[1;33m\u001b[0m\u001b[0m\n\u001b[0m\u001b[0;32m     24\u001b[0m         \u001b[0mexpected_returns\u001b[0m \u001b[1;33m=\u001b[0m \u001b[1;33m[\u001b[0m\u001b[0mr\u001b[0m\u001b[1;33m.\u001b[0m\u001b[0mcalculate_expected_return\u001b[0m\u001b[1;33m(\u001b[0m\u001b[0mfloat\u001b[0m\u001b[1;33m(\u001b[0m\u001b[0mr\u001b[0m\u001b[1;33m.\u001b[0m\u001b[0mscore\u001b[0m\u001b[1;33m)\u001b[0m\u001b[1;33m/\u001b[0m\u001b[1;36m70\u001b[0m\u001b[1;33m,\u001b[0m \u001b[0mexpected_market_return\u001b[0m\u001b[1;33m)\u001b[0m \u001b[1;32mfor\u001b[0m \u001b[0mr\u001b[0m \u001b[1;32min\u001b[0m \u001b[0mself\u001b[0m\u001b[1;33m.\u001b[0m\u001b[0msecurities\u001b[0m\u001b[1;33m]\u001b[0m\u001b[1;33m\u001b[0m\u001b[1;33m\u001b[0m\u001b[0m\n\u001b[0;32m     25\u001b[0m         \u001b[1;32mreturn\u001b[0m \u001b[0msum\u001b[0m\u001b[1;33m(\u001b[0m\u001b[1;33m[\u001b[0m\u001b[0mw\u001b[0m\u001b[1;33m*\u001b[0m\u001b[0mr\u001b[0m \u001b[1;32mfor\u001b[0m \u001b[0mw\u001b[0m\u001b[1;33m,\u001b[0m \u001b[0mr\u001b[0m \u001b[1;32min\u001b[0m \u001b[0mzip\u001b[0m\u001b[1;33m(\u001b[0m\u001b[0mweights\u001b[0m\u001b[1;33m,\u001b[0m \u001b[0mexpected_returns\u001b[0m\u001b[1;33m)\u001b[0m\u001b[1;33m]\u001b[0m\u001b[1;33m)\u001b[0m\u001b[1;33m\u001b[0m\u001b[1;33m\u001b[0m\u001b[0m\n",
      "\u001b[1;32m~\\Documents\\Projects\\Coding Projects\\Stock Market\\Stock-Market-Analysis\\portfolio.py\u001b[0m in \u001b[0;36mcheck_weights_valid\u001b[1;34m(self, weights)\u001b[0m\n\u001b[0;32m     13\u001b[0m     \u001b[1;32mdef\u001b[0m \u001b[0mcheck_weights_valid\u001b[0m\u001b[1;33m(\u001b[0m\u001b[0mself\u001b[0m\u001b[1;33m,\u001b[0m \u001b[0mweights\u001b[0m\u001b[1;33m)\u001b[0m\u001b[1;33m:\u001b[0m\u001b[1;33m\u001b[0m\u001b[1;33m\u001b[0m\u001b[0m\n\u001b[0;32m     14\u001b[0m         \u001b[1;32massert\u001b[0m \u001b[0mlen\u001b[0m\u001b[1;33m(\u001b[0m\u001b[0mweights\u001b[0m\u001b[1;33m)\u001b[0m \u001b[1;33m==\u001b[0m \u001b[0mlen\u001b[0m\u001b[1;33m(\u001b[0m\u001b[0mself\u001b[0m\u001b[1;33m.\u001b[0m\u001b[0msecurities\u001b[0m\u001b[1;33m)\u001b[0m\u001b[1;33m,\u001b[0m \u001b[1;34m\"Length mismatch between weights({}) and securities ({})\"\u001b[0m\u001b[1;33m.\u001b[0m\u001b[0mformat\u001b[0m\u001b[1;33m(\u001b[0m\u001b[0mlen\u001b[0m\u001b[1;33m(\u001b[0m\u001b[0mweights\u001b[0m\u001b[1;33m)\u001b[0m\u001b[1;33m,\u001b[0m \u001b[0mlen\u001b[0m\u001b[1;33m(\u001b[0m\u001b[0mself\u001b[0m\u001b[1;33m.\u001b[0m\u001b[0msecurities\u001b[0m\u001b[1;33m)\u001b[0m\u001b[1;33m)\u001b[0m\u001b[1;33m\u001b[0m\u001b[1;33m\u001b[0m\u001b[0m\n\u001b[1;32m---> 15\u001b[1;33m         \u001b[1;32massert\u001b[0m \u001b[0msum\u001b[0m\u001b[1;33m(\u001b[0m\u001b[0mweights\u001b[0m\u001b[1;33m)\u001b[0m \u001b[1;33m==\u001b[0m \u001b[1;36m1\u001b[0m\u001b[1;33m,\u001b[0m \u001b[1;34m\"Sum of weights must equal 1. It is \"\u001b[0m \u001b[1;33m+\u001b[0m \u001b[0msum\u001b[0m\u001b[1;33m(\u001b[0m\u001b[0mweights\u001b[0m\u001b[1;33m)\u001b[0m\u001b[1;33m\u001b[0m\u001b[1;33m\u001b[0m\u001b[0m\n\u001b[0m\u001b[0;32m     16\u001b[0m \u001b[1;33m\u001b[0m\u001b[0m\n\u001b[0;32m     17\u001b[0m     \u001b[1;32mdef\u001b[0m \u001b[0mcalculate_sharpe_ratio\u001b[0m\u001b[1;33m(\u001b[0m\u001b[0mself\u001b[0m\u001b[1;33m,\u001b[0m \u001b[0mweights\u001b[0m\u001b[1;33m,\u001b[0m \u001b[0mexpected_market_return\u001b[0m\u001b[1;33m,\u001b[0m \u001b[0mcov_matrix\u001b[0m\u001b[1;33m=\u001b[0m\u001b[1;32mNone\u001b[0m\u001b[1;33m,\u001b[0m \u001b[0mcorr_matrix\u001b[0m\u001b[1;33m=\u001b[0m\u001b[1;32mNone\u001b[0m\u001b[1;33m)\u001b[0m\u001b[1;33m:\u001b[0m\u001b[1;33m\u001b[0m\u001b[1;33m\u001b[0m\u001b[0m\n",
      "\u001b[1;31mTypeError\u001b[0m: can only concatenate str (not \"float\") to str"
     ]
    }
   ],
   "source": [
    "w = [0.4, 0.4, 0.3]\n",
    "p.calculate_sharpe_ratio(w, 9.5, cov_matrix=cov_matrix)"
   ]
  },
  {
   "cell_type": "code",
   "execution_count": 30,
   "metadata": {},
   "outputs": [
    {
     "ename": "AttributeError",
     "evalue": "'float' object has no attribute 'index'",
     "output_type": "error",
     "traceback": [
      "\u001b[1;31m---------------------------------------------------------------------------\u001b[0m",
      "\u001b[1;31mAttributeError\u001b[0m                            Traceback (most recent call last)",
      "\u001b[1;32m<ipython-input-30-fd3555e1620e>\u001b[0m in \u001b[0;36m<module>\u001b[1;34m\u001b[0m\n\u001b[0;32m      1\u001b[0m \u001b[1;32mfor\u001b[0m \u001b[0mprice\u001b[0m \u001b[1;32min\u001b[0m \u001b[0mdata\u001b[0m\u001b[1;33m:\u001b[0m\u001b[1;33m\u001b[0m\u001b[1;33m\u001b[0m\u001b[0m\n\u001b[1;32m----> 2\u001b[1;33m     \u001b[0mprint\u001b[0m\u001b[1;33m(\u001b[0m\u001b[0mprice\u001b[0m\u001b[1;33m.\u001b[0m\u001b[0mindex\u001b[0m\u001b[1;33m)\u001b[0m\u001b[1;33m\u001b[0m\u001b[1;33m\u001b[0m\u001b[0m\n\u001b[0m\u001b[0;32m      3\u001b[0m \u001b[0mase\u001b[0m \u001b[1;33m=\u001b[0m \u001b[0mdatetime\u001b[0m\u001b[1;33m.\u001b[0m\u001b[0mdatetime\u001b[0m\u001b[1;33m.\u001b[0m\u001b[0mtoday\u001b[0m\u001b[1;33m(\u001b[0m\u001b[1;33m)\u001b[0m\u001b[1;33m\u001b[0m\u001b[1;33m\u001b[0m\u001b[0m\n\u001b[0;32m      4\u001b[0m \u001b[0mdate_list\u001b[0m \u001b[1;33m=\u001b[0m \u001b[1;33m[\u001b[0m\u001b[0mbase\u001b[0m \u001b[1;33m-\u001b[0m \u001b[0mdatetime\u001b[0m\u001b[1;33m.\u001b[0m\u001b[0mtimedelta\u001b[0m\u001b[1;33m(\u001b[0m\u001b[0mdays\u001b[0m\u001b[1;33m=\u001b[0m\u001b[0mx\u001b[0m\u001b[1;33m)\u001b[0m \u001b[1;32mfor\u001b[0m \u001b[0mx\u001b[0m \u001b[1;32min\u001b[0m \u001b[0mrange\u001b[0m\u001b[1;33m(\u001b[0m\u001b[0mlen\u001b[0m\u001b[1;33m(\u001b[0m\u001b[0mdata\u001b[0m\u001b[1;33m)\u001b[0m\u001b[1;33m)\u001b[0m\u001b[1;33m]\u001b[0m\u001b[1;33m\u001b[0m\u001b[1;33m\u001b[0m\u001b[0m\n\u001b[0;32m      5\u001b[0m \u001b[0mprint\u001b[0m\u001b[1;33m(\u001b[0m\u001b[0mdate_list\u001b[0m\u001b[1;33m)\u001b[0m\u001b[1;33m\u001b[0m\u001b[1;33m\u001b[0m\u001b[0m\n",
      "\u001b[1;31mAttributeError\u001b[0m: 'float' object has no attribute 'index'"
     ]
    }
   ],
   "source": [
    "for price in data:\n",
    "    print(price)\n",
    "ase = datetime.datetime.today()\n",
    "date_list = [base - datetime.timedelta(days=x) for x in range(len(data))]\n",
    "print(date_list)"
   ]
  },
  {
   "cell_type": "code",
   "execution_count": 9,
   "metadata": {},
   "outputs": [
    {
     "data": {
      "text/plain": [
       "Date\n",
       "2010-06-29     23.889999\n",
       "2010-06-30     23.830000\n",
       "2010-07-01     21.959999\n",
       "2010-07-02     19.200001\n",
       "2010-07-06     16.110001\n",
       "                 ...    \n",
       "2020-04-09    573.000000\n",
       "2020-04-13    650.950012\n",
       "2020-04-14    709.890015\n",
       "2020-04-15    729.830017\n",
       "2020-04-16    745.210022\n",
       "Name: Adj Close, Length: 2467, dtype: float64"
      ]
     },
     "execution_count": 9,
     "metadata": {},
     "output_type": "execute_result"
    }
   ],
   "source": [
    "data"
   ]
  },
  {
   "cell_type": "code",
   "execution_count": 4,
   "metadata": {},
   "outputs": [
    {
     "name": "stdout",
     "output_type": "stream",
     "text": [
      "Health Score: 4 / 4\n",
      "Growth Score: 0 / 2\n",
      "Value Score: 1 / 1\n",
      "Health Score: 4 / 4\n",
      "Growth Score: 0 / 2\n",
      "Value Score: 0 / 1\n",
      "Health Score: 2 / 4\n",
      "Growth Score: 0 / 1\n",
      "Value Score: 1 / 1\n",
      "Health Score: 4 / 4\n",
      "Growth Score: 0 / 2\n",
      "Value Score: 0 / 1\n"
     ]
    },
    {
     "ename": "TypeError",
     "evalue": "unsupported operand type(s) for *: 'NoneType' and 'float'",
     "output_type": "error",
     "traceback": [
      "\u001b[1;31m---------------------------------------------------------------------------\u001b[0m",
      "\u001b[1;31mTypeError\u001b[0m                                 Traceback (most recent call last)",
      "\u001b[1;32m<ipython-input-4-7e33dbdb2ce1>\u001b[0m in \u001b[0;36m<module>\u001b[1;34m\u001b[0m\n\u001b[1;32m----> 1\u001b[1;33m \u001b[0mrank_companies_by_score\u001b[0m\u001b[1;33m(\u001b[0m\u001b[1;33m[\u001b[0m\u001b[0mcompany\u001b[0m\u001b[1;33m(\u001b[0m\u001b[1;34m\"MSFT\"\u001b[0m\u001b[1;33m)\u001b[0m\u001b[1;33m,\u001b[0m \u001b[0mcompany\u001b[0m\u001b[1;33m(\u001b[0m\u001b[1;34m\"NKE\"\u001b[0m\u001b[1;33m)\u001b[0m\u001b[1;33m,\u001b[0m \u001b[0mcompany\u001b[0m\u001b[1;33m(\u001b[0m\u001b[1;34m\"EIX\"\u001b[0m\u001b[1;33m)\u001b[0m\u001b[1;33m,\u001b[0m \u001b[0mcompany\u001b[0m\u001b[1;33m(\u001b[0m\u001b[1;34m\"SNE\"\u001b[0m\u001b[1;33m)\u001b[0m\u001b[1;33m,\u001b[0m \u001b[0mcompany\u001b[0m\u001b[1;33m(\u001b[0m\u001b[1;34m\"FB\"\u001b[0m\u001b[1;33m)\u001b[0m\u001b[1;33m]\u001b[0m\u001b[1;33m)\u001b[0m\u001b[1;33m\u001b[0m\u001b[1;33m\u001b[0m\u001b[0m\n\u001b[0m",
      "\u001b[1;32m~\\Documents\\Projects\\Coding Projects\\Stock Market\\Stock-Market-Analysis\\company_helpers.py\u001b[0m in \u001b[0;36mrank_companies_by_score\u001b[1;34m(companies)\u001b[0m\n\u001b[0;32m     14\u001b[0m     \u001b[0mscores\u001b[0m \u001b[1;33m=\u001b[0m \u001b[1;33m[\u001b[0m\u001b[1;33m]\u001b[0m\u001b[1;33m\u001b[0m\u001b[1;33m\u001b[0m\u001b[0m\n\u001b[0;32m     15\u001b[0m     \u001b[1;32mfor\u001b[0m \u001b[0mcompany\u001b[0m \u001b[1;32min\u001b[0m \u001b[0mcompanies\u001b[0m\u001b[1;33m:\u001b[0m\u001b[1;33m\u001b[0m\u001b[1;33m\u001b[0m\u001b[0m\n\u001b[1;32m---> 16\u001b[1;33m         \u001b[0mscores\u001b[0m\u001b[1;33m.\u001b[0m\u001b[0mappend\u001b[0m\u001b[1;33m(\u001b[0m\u001b[0mcompany\u001b[0m\u001b[1;33m.\u001b[0m\u001b[0manalyze\u001b[0m\u001b[1;33m(\u001b[0m\u001b[1;33m)\u001b[0m\u001b[1;33m)\u001b[0m\u001b[1;33m\u001b[0m\u001b[1;33m\u001b[0m\u001b[0m\n\u001b[0m\u001b[0;32m     17\u001b[0m     \u001b[0mranked_companies\u001b[0m \u001b[1;33m=\u001b[0m \u001b[1;33m[\u001b[0m\u001b[1;33m[\u001b[0m\u001b[0mcompany\u001b[0m\u001b[1;33m,\u001b[0m \u001b[0mscore\u001b[0m\u001b[1;33m]\u001b[0m \u001b[1;32mfor\u001b[0m \u001b[0mscore\u001b[0m\u001b[1;33m,\u001b[0m\u001b[0mcompany\u001b[0m \u001b[1;32min\u001b[0m \u001b[0msorted\u001b[0m\u001b[1;33m(\u001b[0m\u001b[0mzip\u001b[0m\u001b[1;33m(\u001b[0m\u001b[0mscores\u001b[0m\u001b[1;33m,\u001b[0m\u001b[0mcompanies\u001b[0m\u001b[1;33m)\u001b[0m\u001b[1;33m)\u001b[0m\u001b[1;33m]\u001b[0m\u001b[1;33m\u001b[0m\u001b[1;33m\u001b[0m\u001b[0m\n\u001b[0;32m     18\u001b[0m     \u001b[1;32mreturn\u001b[0m \u001b[0mranked_companies\u001b[0m\u001b[1;33m\u001b[0m\u001b[1;33m\u001b[0m\u001b[0m\n",
      "\u001b[1;32m<ipython-input-2-8989e31067b9>\u001b[0m in \u001b[0;36manalyze\u001b[1;34m(self)\u001b[0m\n\u001b[0;32m     84\u001b[0m \u001b[1;33m\u001b[0m\u001b[0m\n\u001b[0;32m     85\u001b[0m         \u001b[1;31m# Perform_multiples_valuatoin\u001b[0m\u001b[1;33m\u001b[0m\u001b[1;33m\u001b[0m\u001b[1;33m\u001b[0m\u001b[0m\n\u001b[1;32m---> 86\u001b[1;33m         \u001b[0mmultiples_valuation\u001b[0m \u001b[1;33m=\u001b[0m \u001b[0mmultiples_analysis\u001b[0m\u001b[1;33m(\u001b[0m\u001b[0mself\u001b[0m\u001b[1;33m,\u001b[0m \u001b[0mcomparables\u001b[0m\u001b[1;33m,\u001b[0m \u001b[0mverbose\u001b[0m\u001b[1;33m=\u001b[0m\u001b[1;32mFalse\u001b[0m\u001b[1;33m)\u001b[0m\u001b[1;33m\u001b[0m\u001b[1;33m\u001b[0m\u001b[0m\n\u001b[0m\u001b[0;32m     87\u001b[0m         \u001b[1;32mreturn\u001b[0m \u001b[0mhealth_score\u001b[0m \u001b[1;33m+\u001b[0m \u001b[0mgrowth_score\u001b[0m \u001b[1;33m+\u001b[0m \u001b[0mvalue_score\u001b[0m\u001b[1;33m\u001b[0m\u001b[1;33m\u001b[0m\u001b[0m\n\u001b[0;32m     88\u001b[0m \u001b[1;33m\u001b[0m\u001b[0m\n",
      "\u001b[1;32m~\\Documents\\Projects\\Coding Projects\\Stock Market\\Stock-Market-Analysis\\company_helpers.py\u001b[0m in \u001b[0;36mmultiples_analysis\u001b[1;34m(company, comparable_companies, verbose)\u001b[0m\n\u001b[0;32m     35\u001b[0m \u001b[1;33m\u001b[0m\u001b[0m\n\u001b[0;32m     36\u001b[0m     \u001b[1;31m# EV/EBITDA Analysis\u001b[0m\u001b[1;33m\u001b[0m\u001b[1;33m\u001b[0m\u001b[1;33m\u001b[0m\u001b[0m\n\u001b[1;32m---> 37\u001b[1;33m     \u001b[0mmedian\u001b[0m \u001b[1;33m=\u001b[0m \u001b[0mcompany\u001b[0m\u001b[1;33m.\u001b[0m\u001b[0mebitda\u001b[0m \u001b[1;33m*\u001b[0m \u001b[0mnp\u001b[0m\u001b[1;33m.\u001b[0m\u001b[0mmedian\u001b[0m\u001b[1;33m(\u001b[0m\u001b[0mev_to_ebitda_ratios\u001b[0m\u001b[1;33m)\u001b[0m\u001b[1;33m\u001b[0m\u001b[1;33m\u001b[0m\u001b[0m\n\u001b[0m\u001b[0;32m     38\u001b[0m     \u001b[0mmean\u001b[0m \u001b[1;33m=\u001b[0m \u001b[0mcompany\u001b[0m\u001b[1;33m.\u001b[0m\u001b[0mebitda\u001b[0m \u001b[1;33m*\u001b[0m \u001b[0mnp\u001b[0m\u001b[1;33m.\u001b[0m\u001b[0mmean\u001b[0m\u001b[1;33m(\u001b[0m\u001b[0mev_to_ebitda_ratios\u001b[0m\u001b[1;33m)\u001b[0m\u001b[1;33m\u001b[0m\u001b[1;33m\u001b[0m\u001b[0m\n\u001b[0;32m     39\u001b[0m     \u001b[0mequity_per_share_median\u001b[0m \u001b[1;33m=\u001b[0m \u001b[1;33m(\u001b[0m\u001b[0mmedian\u001b[0m \u001b[1;33m+\u001b[0m \u001b[0mcompany\u001b[0m\u001b[1;33m.\u001b[0m\u001b[0mcash\u001b[0m \u001b[1;33m-\u001b[0m \u001b[0mcompany\u001b[0m\u001b[1;33m.\u001b[0m\u001b[0mdebt\u001b[0m\u001b[1;33m)\u001b[0m \u001b[1;33m/\u001b[0m \u001b[0mcompany\u001b[0m\u001b[1;33m.\u001b[0m\u001b[0mshares_outstanding\u001b[0m\u001b[1;33m\u001b[0m\u001b[1;33m\u001b[0m\u001b[0m\n",
      "\u001b[1;31mTypeError\u001b[0m: unsupported operand type(s) for *: 'NoneType' and 'float'"
     ]
    }
   ],
   "source": [
    "rank_companies_by_score([company(\"MSFT\"), company(\"NKE\"), company(\"EIX\"), company(\"SNE\"), company(\"FB\")])"
   ]
  },
  {
   "cell_type": "code",
   "execution_count": null,
   "metadata": {},
   "outputs": [
    {
     "name": "stdout",
     "output_type": "stream",
     "text": [
      "61264998400\n",
      "845404032\n",
      "29729000\n",
      "-4536000\n",
      "-9904000\n",
      "43000000\n",
      "397200000\n",
      "-11659000\n",
      "-80048000\n",
      "-8577936\n"
     ]
    }
   ],
   "source": [
    "a = company(\"MSFT\")\n",
    "a.analyze()"
   ]
  },
  {
   "cell_type": "code",
   "execution_count": 41,
   "metadata": {},
   "outputs": [
    {
     "name": "stdout",
     "output_type": "stream",
     "text": [
      "Health Score: 4 / 4\n",
      "Growth Score: 0 / 2\n",
      "Value Score: 0 / 1\n"
     ]
    }
   ],
   "source": [
    "a = company(\"NKE\")\n",
    "a.analyze()"
   ]
  },
  {
   "cell_type": "code",
   "execution_count": 11,
   "metadata": {},
   "outputs": [
    {
     "name": "stdout",
     "output_type": "stream",
     "text": [
      "Health Score: 4 / 4\n",
      "Growth Score: 0 / 2\n",
      "Value Score: 0 / 1\n"
     ]
    }
   ],
   "source": [
    "a = company(\"TSLA\")\n",
    "a.analyze()"
   ]
  },
  {
   "cell_type": "code",
   "execution_count": 16,
   "metadata": {},
   "outputs": [
    {
     "name": "stdout",
     "output_type": "stream",
     "text": [
      "Health Score: 2 / 4\n",
      "Growth Score: 0 / 1\n",
      "Value Score: 1 / 1\n"
     ]
    }
   ],
   "source": [
    "a = company(\"EIX\")\n",
    "a.analyze()"
   ]
  },
  {
   "cell_type": "code",
   "execution_count": 17,
   "metadata": {},
   "outputs": [
    {
     "name": "stdout",
     "output_type": "stream",
     "text": [
      "Health Score: 4 / 4\n",
      "Growth Score: 1 / 2\n",
      "Value Score: 0 / 1\n"
     ]
    }
   ],
   "source": [
    "a = company(\"FB\")\n",
    "a.analyze()"
   ]
  },
  {
   "cell_type": "code",
   "execution_count": 1,
   "metadata": {},
   "outputs": [],
   "source": [
    "from portfolio import *    \n",
    "        "
   ]
  },
  {
   "cell_type": "code",
   "execution_count": null,
   "metadata": {},
   "outputs": [],
   "source": []
  },
  {
   "cell_type": "code",
   "execution_count": 4,
   "metadata": {},
   "outputs": [
    {
     "name": "stdout",
     "output_type": "stream",
     "text": [
      "0.7280000000000001\n"
     ]
    },
    {
     "data": {
      "text/plain": [
       "2.267179304774989"
      ]
     },
     "execution_count": 4,
     "metadata": {},
     "output_type": "execute_result"
    }
   ],
   "source": [
    "original = Security(\"Original Portfolio\")\n",
    "abc = Security(\"ABC Company\")\n",
    "original.set_monthly_return(0.67)\n",
    "original.set_monthly_stdev(2.37)\n",
    "abc.set_monthly_return(1.25)\n",
    "abc.set_monthly_stdev(2.95)\n",
    "\n",
    "port = Portfolio([original, abc])\n",
    "print(port.calculate_expected_return([0.9, 0.1]))\n",
    "corr_matrix = [[1, 0.4],\n",
    "              [0.4, 1]]\n",
    "port.calculate_expected_stdev([0.9, 0.1], corr_matrix=corr_matrix)\n"
   ]
  },
  {
   "cell_type": "code",
   "execution_count": 5,
   "metadata": {},
   "outputs": [
    {
     "name": "stdout",
     "output_type": "stream",
     "text": [
      "0.6450000000000001\n"
     ]
    },
    {
     "data": {
      "text/plain": [
       "2.133"
      ]
     },
     "execution_count": 5,
     "metadata": {},
     "output_type": "execute_result"
    }
   ],
   "source": [
    "original = Security(\"Original Portfolio\")\n",
    "gov = Security(\"ABC Company\")\n",
    "original.set_monthly_return(0.67)\n",
    "original.set_monthly_stdev(2.37)\n",
    "gov.set_monthly_return(0.42)\n",
    "gov.set_monthly_stdev(0)\n",
    "\n",
    "port = Portfolio([original, gov])\n",
    "print(port.calculate_expected_return([0.9, 0.1]))\n",
    "corr_matrix = [[1, 0],\n",
    "              [0, 1]]\n",
    "port.calculate_expected_stdev([0.9, 0.1], corr_matrix=corr_matrix)"
   ]
  },
  {
   "cell_type": "code",
   "execution_count": 45,
   "metadata": {},
   "outputs": [
    {
     "data": {
      "text/plain": [
       "2.7966000000000006"
      ]
     },
     "execution_count": 45,
     "metadata": {},
     "output_type": "execute_result"
    }
   ],
   "source": [
    "2.37 * 2.95 * 0.4"
   ]
  },
  {
   "cell_type": "code",
   "execution_count": null,
   "metadata": {},
   "outputs": [],
   "source": []
  }
 ],
 "metadata": {
  "kernelspec": {
   "display_name": "tensorflow",
   "language": "python",
   "name": "tensorflow"
  },
  "language_info": {
   "codemirror_mode": {
    "name": "ipython",
    "version": 3
   },
   "file_extension": ".py",
   "mimetype": "text/x-python",
   "name": "python",
   "nbconvert_exporter": "python",
   "pygments_lexer": "ipython3",
   "version": "3.7.6"
  }
 },
 "nbformat": 4,
 "nbformat_minor": 4
}
