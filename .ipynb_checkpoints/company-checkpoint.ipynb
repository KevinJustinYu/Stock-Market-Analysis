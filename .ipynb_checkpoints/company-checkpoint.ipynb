{
 "cells": [
  {
   "cell_type": "code",
   "execution_count": null,
   "metadata": {},
   "outputs": [],
   "source": [
    "from market import *\n",
    "\n",
    "class company:\n",
    "    def __init__(self, ticker):\n",
    "        self.ticker = ticker\n",
    "        self.name = None\n",
    "        self.historic_prices = None\n",
    "        self.industry = None\n",
    "        self.pe_ratio = None\n",
    "        self.eps = None \n",
    "        self.beta = None\n",
    "        self.market_cap = None\n",
    "        self.dividend_yield = None\n",
    "        self.profit_margin = None\n",
    "        self.operating_margin = None\n",
    "        self.roa = None\n",
    "        self.roe = None\n",
    "        self.revenue = None\n",
    "        self.revenue_per_share = None\n",
    "        self.quarterly_revenue_growth = None\n",
    "        self.gross_profit = None\n",
    "        self.ebitda = None\n",
    "        self.net_income = None\n",
    "        self.quarterly_earnings_growth = None\n",
    "        self.cash = None\n",
    "        self.cash_per_share = None\n",
    "        self.debt = None\n",
    "        self.debt_to_equity = None\n",
    "        self.current_ratio = None\n",
    "        self.book_value_per_share = None\n",
    "        self.operating_cash_flow = None\n",
    "        self.levered_free_cash_flow = None\n",
    "        self.shares_outstanding = None\n",
    "        \n",
    "    def set_statistics(self):\n",
    "        stats = get_summary_statistics(self.ticker)\n",
    "        \n",
    "        # Check if data request was successful\n",
    "        if stats == {\"error\":\"Failed to parse json response for \" + str(self.ticker)}:\n",
    "            print(\"Setting the statistics for \" + str(ticker) + \" failed becuase get_summary_statistics failed to parse json respose. Check that function.\")\n",
    "        \n",
    "        # TODO: Fill in the data\n",
    "        if \"Beta (5Y Monthly)\" in stats.keys():\n",
    "            self.beta = str_to_num(stats[\"Beta (5Y Monthly)\"])\n",
    "        else:\n",
    "            print(\"Beta (5Y Monthly) was not retrieved for \" + str(ticker))\n",
    "            \n",
    "        "
   ]
  },
  {
   "cell_type": "code",
   "execution_count": null,
   "metadata": {},
   "outputs": [],
   "source": []
  }
 ],
 "metadata": {
  "kernelspec": {
   "display_name": "tensorflow",
   "language": "python",
   "name": "tensorflow"
  },
  "language_info": {
   "codemirror_mode": {
    "name": "ipython",
    "version": 3
   },
   "file_extension": ".py",
   "mimetype": "text/x-python",
   "name": "python",
   "nbconvert_exporter": "python",
   "pygments_lexer": "ipython3",
   "version": "3.7.6"
  }
 },
 "nbformat": 4,
 "nbformat_minor": 4
}
