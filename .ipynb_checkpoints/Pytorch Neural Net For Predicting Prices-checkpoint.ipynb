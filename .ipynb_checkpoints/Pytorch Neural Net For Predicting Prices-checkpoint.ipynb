{
 "cells": [
  {
   "cell_type": "code",
   "execution_count": 1,
   "metadata": {
    "collapsed": false,
    "jupyter": {
     "outputs_hidden": false
    }
   },
   "outputs": [
    {
     "name": "stderr",
     "output_type": "stream",
     "text": [
      "C:\\Users\\kevin\\Anaconda3\\envs\\tensorflow_env\\lib\\site-packages\\tqdm\\std.py:648: FutureWarning: The Panel class is removed from pandas. Accessing it from the top-level namespace will also be removed in the next version\n",
      "  from pandas import Panel\n"
     ]
    }
   ],
   "source": [
    "%matplotlib inline\n",
    "import pathlib\n",
    "import matplotlib.pyplot as plt\n",
    "from pylab import rcParams\n",
    "rcParams['figure.figsize'] = 8, 6\n",
    "import pandas as pd\n",
    "import numpy as np\n",
    "import seaborn as sns\n",
    "pd.set_option('display.max_columns', 500)\n",
    "from collections import defaultdict\n",
    "\n",
    "from IPython.core.interactiveshell import InteractiveShell\n",
    "InteractiveShell.ast_node_interactivity='all'\n",
    "\n",
    "from sklearn.model_selection import train_test_split\n",
    "from sklearn import preprocessing\n",
    "from sklearn.metrics import mean_squared_error\n",
    "\n",
    "pd.options.mode.chained_assignment = None\n",
    "\n",
    "from torch.nn import init\n",
    "import torch\n",
    "import torch.nn as nn\n",
    "import torch.optim as optim\n",
    "from torch.autograd import Variable\n",
    "import torch.nn.functional as F\n",
    "from torch.utils import data\n",
    "from torch.optim import lr_scheduler\n",
    "\n",
    "device = torch.device(\"cuda:0\" if torch.cuda.is_available() else \"cpu\")\n",
    "device\n",
    "import glob\n",
    "from tqdm import tqdm, tqdm_notebook, tnrange\n",
    "tqdm.pandas(desc='Progress')"
   ]
  },
  {
   "cell_type": "code",
   "execution_count": 2,
   "metadata": {
    "collapsed": false,
    "jupyter": {
     "outputs_hidden": false
    }
   },
   "outputs": [],
   "source": [
    "from market import *\n",
    "from market_ml import *"
   ]
  },
  {
   "cell_type": "code",
   "execution_count": 3,
   "metadata": {},
   "outputs": [],
   "source": [
    "class RegressionColumnarDataset(torch.utils.data.Dataset):\n",
    "    def __init__(self, df, cats, y):\n",
    "        self.dfcats = df[cats]\n",
    "        self.dfconts = df.drop(cats, axis=1)\n",
    "        \n",
    "        self.cats = np.stack([c.values for n, c in self.dfcats.items()], axis=1).astype(np.int64)\n",
    "        self.conts = np.stack([c.values for n, c in self.dfconts.items()], axis=1).astype(np.float32)\n",
    "        self.y = y.values.astype(np.float32)\n",
    "        \n",
    "    def __len__(self): return len(self.y)\n",
    " \n",
    "    def __getitem__(self, idx):\n",
    "        return [self.cats[idx], self.conts[idx], self.y[idx]]\n",
    "    \n",
    "def apply_dl(X, y, categorical):\n",
    "    ds = RegressionColumnarDataset(X, categorical, y)\n",
    "    params = {'batch_size': 128,\n",
    "          'shuffle': True,\n",
    "          'num_workers': 0}\n",
    "    return torch.utils.data.DataLoader(ds, **params)"
   ]
  },
  {
   "cell_type": "code",
   "execution_count": 4,
   "metadata": {
    "collapsed": false,
    "jupyter": {
     "outputs_hidden": false
    }
   },
   "outputs": [
    {
     "name": "stderr",
     "output_type": "stream",
     "text": [
      " 76%|███████▋  | 164/215 [01:04<00:42,  1.20it/s]"
     ]
    },
    {
     "name": "stdout",
     "output_type": "stream",
     "text": [
      "Importing data from csv_files\\company_stats_2020-04-09.csv failed.\n"
     ]
    },
    {
     "name": "stderr",
     "output_type": "stream",
     "text": [
      " 87%|████████▋ | 188/215 [01:26<00:27,  1.02s/it]"
     ]
    },
    {
     "name": "stdout",
     "output_type": "stream",
     "text": [
      "Importing data from csv_files\\company_stats_2020-05-17.csv failed.\n"
     ]
    },
    {
     "name": "stderr",
     "output_type": "stream",
     "text": [
      "100%|██████████| 215/215 [01:55<00:00,  1.86it/s]\n"
     ]
    },
    {
     "name": "stdout",
     "output_type": "stream",
     "text": [
      "   index Ticker                                    Name             Sector  \\\n",
      "0      0    PIH  1347 Property Insurance Holdings, Inc.            Finance   \n",
      "1      1   TURN                180 Degree Capital Corp.            Finance   \n",
      "2      2   FLWS                 1-800 FLOWERS.COM, Inc.  Consumer Services   \n",
      "3      3   FCCY           1st Constitution Bancorp (NJ)            Finance   \n",
      "4      4   SRCE                  1st Source Corporation            Finance   \n",
      "\n",
      "                     Industry  IPO Year    Price    Market Cap Trailing P/E  \\\n",
      "0  Property-Casualty Insurers    2014.0   4.8348  2.922200e+07          NaN   \n",
      "1  Finance/Investors Services       NaN   2.1294  6.654100e+07          NaN   \n",
      "2      Other Specialty Stores    1999.0  15.4100  9.542680e+08        28.31   \n",
      "3        Savings Institutions       NaN  17.1200  1.483110e+08        10.77   \n",
      "4                 Major Banks       NaN  44.0200  1.133000e+09        13.25   \n",
      "\n",
      "   Forward P/E  PEG Ratio(5yr Expected)  Price/Sales(ttm)  Price/Book  \\\n",
      "0          NaN                      NaN              0.50        0.69   \n",
      "1          NaN                      NaN            314.30        0.75   \n",
      "2        21.65                     1.34              0.76        2.76   \n",
      "3         9.78                     1.32              2.84        1.11   \n",
      "4        12.09                     1.23              3.78        1.43   \n",
      "\n",
      "   Enterprise Value/Revenue  Enterprise Value/EBITDA  Profit Margin  \\\n",
      "0                      0.76                   118.12          -9.79   \n",
      "1                    282.44                   -24.40           0.00   \n",
      "2                      0.72                    11.96           2.78   \n",
      "3                      4.95                      NaN          26.98   \n",
      "4                      4.52                      NaN          29.01   \n",
      "\n",
      "   Operating Margin(TTM)  Return on Assets(TTM)  Return on Equity(TTM)  \\\n",
      "0                   0.42                   0.10                   0.97   \n",
      "1                    NaN                  -1.64                  -3.19   \n",
      "2                   3.61                   4.79                  10.57   \n",
      "3                  38.79                   1.11                  11.03   \n",
      "4                  39.49                   1.34                  11.25   \n",
      "\n",
      "   Revenue(TTM)  Revenue Per Share(TTM)  Quarterly Revenue Growth(YOY)  \\\n",
      "0  5.840000e+07                    9.73                            NaN   \n",
      "1           NaN                    0.01                            NaN   \n",
      "2  1.250000e+09                   19.41                            NaN   \n",
      "3  5.223000e+07                    6.13                            NaN   \n",
      "4  2.995600e+08                   11.61                            NaN   \n",
      "\n",
      "   Gross Profit(TTM)      EBITDA  Diluted EPS(TTM)  \\\n",
      "0         15490000.0         NaN            -1.185   \n",
      "1                NaN  -2450000.0            -0.091   \n",
      "2        526120000.0  75070000.0             0.520   \n",
      "3         50220000.0         NaN             1.620   \n",
      "4        291490000.0         NaN             3.350   \n",
      "\n",
      "   Quarterly Earnings Growth(YOY)   Total Cash  Total Cash Per Share  \\\n",
      "0                             NaN    2310000.0                  0.38   \n",
      "1                           -39.9    5870000.0                  0.19   \n",
      "2                             NaN  172920000.0                  2.69   \n",
      "3                            80.1   30110000.0                  3.48   \n",
      "4                             6.5  117890000.0                  4.62   \n",
      "\n",
      "    Total Debt  Total Debt/Equity  Current Ratio  Book Value Per Share  \\\n",
      "0          NaN                NaN           1.35                  7.00   \n",
      "1          NaN                NaN           1.45                  2.82   \n",
      "2   96970000.0               28.3           2.38                  5.33   \n",
      "3  139430000.0                NaN            NaN                 15.62   \n",
      "4  348340000.0                NaN            NaN                 31.12   \n",
      "\n",
      "   Operating Cash Flow(TTM)  Levered Free Cash Flow(TTM)  Beta(3Y Monthly)  \\\n",
      "0                 8630000.0                  -80710000.0              0.37   \n",
      "1                -5850000.0                    2120000.0              0.69   \n",
      "2                78100000.0                   34370000.0              1.24   \n",
      "3                14330000.0                          NaN              0.13   \n",
      "4               130670000.0                          NaN              1.36   \n",
      "\n",
      "   Shares Outstanding  Forward Annual Dividend Rate  \\\n",
      "0           6010000.0                           NaN   \n",
      "1          31120000.0                           NaN   \n",
      "2          35770000.0                           NaN   \n",
      "3           8630000.0                          0.30   \n",
      "4          25960000.0                          1.08   \n",
      "\n",
      "   Forward Annual Dividend Yield  Trailing Annual Dividend Rate  \\\n",
      "0                            NaN                            NaN   \n",
      "1                            NaN                            NaN   \n",
      "2                            NaN                            NaN   \n",
      "3                           1.77                           0.30   \n",
      "4                           2.48                           0.52   \n",
      "\n",
      "   Trailing Annual Dividend Yield  5 Year Average Dividend Yield  \\\n",
      "0                             NaN                            NaN   \n",
      "1                             NaN                            NaN   \n",
      "2                             NaN                            NaN   \n",
      "3                            1.74                            NaN   \n",
      "4                            1.18                           1.95   \n",
      "\n",
      "   Payout Ratio EPS Beat Ratio  Market Cap (intraday)  \\\n",
      "0          0.00            NaN                    NaN   \n",
      "1          0.00            NaN                    NaN   \n",
      "2          0.00            NaN                    NaN   \n",
      "3         17.59            NaN                    NaN   \n",
      "4         31.04            NaN                    NaN   \n",
      "\n",
      "   PEG Ratio (5 yr expected) Price/Sales  Operating Margin  Return on Assets  \\\n",
      "0                        NaN         NaN               NaN               NaN   \n",
      "1                        NaN         NaN               NaN               NaN   \n",
      "2                        NaN         NaN               NaN               NaN   \n",
      "3                        NaN         NaN               NaN               NaN   \n",
      "4                        NaN         NaN               NaN               NaN   \n",
      "\n",
      "   Return on Equity  Revenue  Revenue Per Share  Quarterly Revenue Growth  \\\n",
      "0               NaN      NaN                NaN                       NaN   \n",
      "1               NaN      NaN                NaN                       NaN   \n",
      "2               NaN      NaN                NaN                       NaN   \n",
      "3               NaN      NaN                NaN                       NaN   \n",
      "4               NaN      NaN                NaN                       NaN   \n",
      "\n",
      "   Gross Profit  Diluted EPS  Quarterly Earnings Growth  Operating Cash Flow  \\\n",
      "0           NaN          NaN                        NaN                  NaN   \n",
      "1           NaN          NaN                        NaN                  NaN   \n",
      "2           NaN          NaN                        NaN                  NaN   \n",
      "3           NaN          NaN                        NaN                  NaN   \n",
      "4           NaN          NaN                        NaN                  NaN   \n",
      "\n",
      "   Levered Free Cash Flow  Beta (3Y Monthly)  Net Income Avi to Common  \\\n",
      "0                     NaN                NaN                       NaN   \n",
      "1                     NaN                NaN                       NaN   \n",
      "2                     NaN                NaN                       NaN   \n",
      "3                     NaN                NaN                       NaN   \n",
      "4                     NaN                NaN                       NaN   \n",
      "\n",
      "   Enterprise Value  \n",
      "0               NaN  \n",
      "1               NaN  \n",
      "2               NaN  \n",
      "3               NaN  \n",
      "4               NaN  \n",
      "Master dataframe columns:  Index(['index', 'Ticker', 'Name', 'Sector', 'Industry', 'IPO Year', 'Price',\n",
      "       'Market Cap', 'Trailing P/E', 'Forward P/E', 'PEG Ratio(5yr Expected)',\n",
      "       'Price/Sales(ttm)', 'Price/Book', 'Enterprise Value/Revenue',\n",
      "       'Enterprise Value/EBITDA', 'Profit Margin', 'Operating Margin(TTM)',\n",
      "       'Return on Assets(TTM)', 'Return on Equity(TTM)', 'Revenue(TTM)',\n",
      "       'Revenue Per Share(TTM)', 'Quarterly Revenue Growth(YOY)',\n",
      "       'Gross Profit(TTM)', 'EBITDA', 'Diluted EPS(TTM)',\n",
      "       'Quarterly Earnings Growth(YOY)', 'Total Cash', 'Total Cash Per Share',\n",
      "       'Total Debt', 'Total Debt/Equity', 'Current Ratio',\n",
      "       'Book Value Per Share', 'Operating Cash Flow(TTM)',\n",
      "       'Levered Free Cash Flow(TTM)', 'Beta(3Y Monthly)', 'Shares Outstanding',\n",
      "       'Forward Annual Dividend Rate', 'Forward Annual Dividend Yield',\n",
      "       'Trailing Annual Dividend Rate', 'Trailing Annual Dividend Yield',\n",
      "       '5 Year Average Dividend Yield', 'Payout Ratio', 'EPS Beat Ratio',\n",
      "       'Market Cap (intraday)', 'PEG Ratio (5 yr expected)', 'Price/Sales',\n",
      "       'Operating Margin', 'Return on Assets', 'Return on Equity', 'Revenue',\n",
      "       'Revenue Per Share', 'Quarterly Revenue Growth', 'Gross Profit',\n",
      "       'Diluted EPS', 'Quarterly Earnings Growth', 'Operating Cash Flow',\n",
      "       'Levered Free Cash Flow', 'Beta (3Y Monthly)',\n",
      "       'Net Income Avi to Common', 'Enterprise Value'],\n",
      "      dtype='object')\n"
     ]
    }
   ],
   "source": [
    "csv_filenames = glob.glob(\"csv_files/company_stats_*.csv\")\n",
    "financial_data = pd.DataFrame()\n",
    "for csv_name in tqdm(csv_filenames):\n",
    "    # Remove rows with nan values for industry and sector\n",
    "    try:\n",
    "        daily_data = pd.read_csv(csv_name, encoding='cp1252')\n",
    "        daily_data = daily_data[pd.notnull(daily_data['Industry'])] \n",
    "        daily_data = daily_data[pd.notnull(daily_data['Sector'])]\n",
    "        financial_data = financial_data.append(daily_data, sort=False)\n",
    "    except:\n",
    "        print('Importing data from', csv_name, 'failed.')\n",
    "    \n",
    "financial_data = financial_data.reset_index()\n",
    "print('Master dataframe columns: ', financial_data.columns)\n",
    "\n",
    "# Convert sector and industry to categoricals\n",
    "financial_data['Industry'] = financial_data['Industry'].astype('category')\n",
    "financial_data['Sector'] = financial_data['Sector'].astype('category')\n",
    "\n",
    "to_remove = ['Ticker', 'Name', 'Price', 'IPO Year']\n",
    "categorical = ['Sector', 'Industry']\n",
    "\n",
    "# Convert categorical variables to integers to feed in the model\n",
    "financial_data[categorical] = financial_data[categorical].apply(lambda x: x.cat.codes)\n",
    "feature_cols = [x for x in financial_data.columns if x not in to_remove]\n",
    "financial_data = financial_data.fillna(0)\n",
    "X = financial_data[feature_cols]\n",
    "Y = financial_data['Price']\n",
    "X_train, X_test, y_train, y_test = train_test_split(X, Y, test_size=0.3, random_state=123)\n",
    "    \n",
    "# Covert to dataloaders\n",
    "traindl = apply_dl(X_train, y_train, categorical)\n",
    "valdl = apply_dl(X_test, y_test, categorical)"
   ]
  },
  {
   "cell_type": "code",
   "execution_count": 5,
   "metadata": {},
   "outputs": [
    {
     "name": "stderr",
     "output_type": "stream",
     "text": [
      "100%|██████████| 46/46 [08:54<00:00, 11.61s/it]\n"
     ]
    },
    {
     "data": {
      "text/html": [
       "<div>\n",
       "<style scoped>\n",
       "    .dataframe tbody tr th:only-of-type {\n",
       "        vertical-align: middle;\n",
       "    }\n",
       "\n",
       "    .dataframe tbody tr th {\n",
       "        vertical-align: top;\n",
       "    }\n",
       "\n",
       "    .dataframe thead th {\n",
       "        text-align: right;\n",
       "    }\n",
       "</style>\n",
       "<table border=\"1\" class=\"dataframe\">\n",
       "  <thead>\n",
       "    <tr style=\"text-align: right;\">\n",
       "      <th></th>\n",
       "      <th>Quarterly Revenue Growth</th>\n",
       "      <th>Payout Ratio</th>\n",
       "      <th>Net Income Avi to Common</th>\n",
       "      <th>Beta</th>\n",
       "      <th>Enterprise Value/EBITDA</th>\n",
       "      <th>Revenue</th>\n",
       "      <th>Total Debt</th>\n",
       "      <th>Beta</th>\n",
       "      <th>Trailing Annual Dividend Rate</th>\n",
       "      <th>Trailing Annual Dividend Yield</th>\n",
       "      <th>Market Cap</th>\n",
       "      <th>IPO Year</th>\n",
       "      <th>Total Cash</th>\n",
       "      <th>Trailing P/E</th>\n",
       "      <th>Total Cash Per Share</th>\n",
       "      <th>Ticker</th>\n",
       "      <th>Price/Sales</th>\n",
       "      <th>Name</th>\n",
       "      <th>Total Debt/Equity</th>\n",
       "      <th>Forward P/E</th>\n",
       "      <th>Enterprise Value</th>\n",
       "      <th>Shares Outstanding</th>\n",
       "      <th>Sector</th>\n",
       "      <th>Industry</th>\n",
       "      <th>Revenue Per Share</th>\n",
       "      <th>Operating Margin</th>\n",
       "      <th>Price/Book</th>\n",
       "      <th>EPS Beat Ratio</th>\n",
       "      <th>Profit Margin</th>\n",
       "      <th>PEG Ratio</th>\n",
       "      <th>Gross Profit</th>\n",
       "      <th>EBITDA</th>\n",
       "      <th>Forward Annual Dividend Rate</th>\n",
       "      <th>Diluted EPS</th>\n",
       "      <th>Enterprise Value/Revenue</th>\n",
       "      <th>Operating Cash Flow</th>\n",
       "      <th>Return on Assets</th>\n",
       "      <th>Current Ratio</th>\n",
       "      <th>index</th>\n",
       "      <th>Return on Equity</th>\n",
       "      <th>Quarterly Earnings Growth</th>\n",
       "      <th>Levered Free Cash Flow</th>\n",
       "      <th>Book Value Per Share</th>\n",
       "      <th>Price</th>\n",
       "      <th>5 Year Average Dividend Yield</th>\n",
       "      <th>Forward Annual Dividend Yield</th>\n",
       "    </tr>\n",
       "  </thead>\n",
       "  <tbody>\n",
       "    <tr>\n",
       "      <td>0</td>\n",
       "      <td>0.0</td>\n",
       "      <td>0.00</td>\n",
       "      <td>0.0</td>\n",
       "      <td>0.37</td>\n",
       "      <td>118.12</td>\n",
       "      <td>0.76</td>\n",
       "      <td>0.0</td>\n",
       "      <td>0.0</td>\n",
       "      <td>0.00</td>\n",
       "      <td>0.00</td>\n",
       "      <td>2.922200e+07</td>\n",
       "      <td>2014.0</td>\n",
       "      <td>2310000.0</td>\n",
       "      <td>0</td>\n",
       "      <td>0.38</td>\n",
       "      <td>PIH</td>\n",
       "      <td>0.50</td>\n",
       "      <td>1347 Property Insurance Holdings, Inc.</td>\n",
       "      <td>0.0</td>\n",
       "      <td>0.00</td>\n",
       "      <td>0.76</td>\n",
       "      <td>6010000.0</td>\n",
       "      <td>12</td>\n",
       "      <td>327</td>\n",
       "      <td>9.73</td>\n",
       "      <td>0.42</td>\n",
       "      <td>0.69</td>\n",
       "      <td>0.0</td>\n",
       "      <td>-9.79</td>\n",
       "      <td>0.00</td>\n",
       "      <td>15490000.0</td>\n",
       "      <td>118.12</td>\n",
       "      <td>0.00</td>\n",
       "      <td>-1.185</td>\n",
       "      <td>0.76</td>\n",
       "      <td>8630000.0</td>\n",
       "      <td>0.10</td>\n",
       "      <td>1.35</td>\n",
       "      <td>0</td>\n",
       "      <td>0.97</td>\n",
       "      <td>0.0</td>\n",
       "      <td>-80710000.0</td>\n",
       "      <td>7.00</td>\n",
       "      <td>4.8348</td>\n",
       "      <td>0.00</td>\n",
       "      <td>0.00</td>\n",
       "    </tr>\n",
       "    <tr>\n",
       "      <td>1</td>\n",
       "      <td>0.0</td>\n",
       "      <td>0.00</td>\n",
       "      <td>0.0</td>\n",
       "      <td>0.69</td>\n",
       "      <td>-24.40</td>\n",
       "      <td>282.44</td>\n",
       "      <td>0.0</td>\n",
       "      <td>0.0</td>\n",
       "      <td>0.00</td>\n",
       "      <td>0.00</td>\n",
       "      <td>6.654100e+07</td>\n",
       "      <td>0.0</td>\n",
       "      <td>5870000.0</td>\n",
       "      <td>0</td>\n",
       "      <td>0.19</td>\n",
       "      <td>TURN</td>\n",
       "      <td>314.30</td>\n",
       "      <td>180 Degree Capital Corp.</td>\n",
       "      <td>0.0</td>\n",
       "      <td>0.00</td>\n",
       "      <td>282.44</td>\n",
       "      <td>31120000.0</td>\n",
       "      <td>12</td>\n",
       "      <td>156</td>\n",
       "      <td>0.01</td>\n",
       "      <td>0.00</td>\n",
       "      <td>0.75</td>\n",
       "      <td>0.0</td>\n",
       "      <td>0.00</td>\n",
       "      <td>0.00</td>\n",
       "      <td>0.0</td>\n",
       "      <td>-24.40</td>\n",
       "      <td>0.00</td>\n",
       "      <td>-0.091</td>\n",
       "      <td>282.44</td>\n",
       "      <td>-5850000.0</td>\n",
       "      <td>-1.64</td>\n",
       "      <td>1.45</td>\n",
       "      <td>1</td>\n",
       "      <td>-3.19</td>\n",
       "      <td>-39.9</td>\n",
       "      <td>2120000.0</td>\n",
       "      <td>2.82</td>\n",
       "      <td>2.1294</td>\n",
       "      <td>0.00</td>\n",
       "      <td>0.00</td>\n",
       "    </tr>\n",
       "    <tr>\n",
       "      <td>2</td>\n",
       "      <td>0.0</td>\n",
       "      <td>0.00</td>\n",
       "      <td>0.0</td>\n",
       "      <td>1.24</td>\n",
       "      <td>11.96</td>\n",
       "      <td>0.72</td>\n",
       "      <td>96970000.0</td>\n",
       "      <td>0.0</td>\n",
       "      <td>0.00</td>\n",
       "      <td>0.00</td>\n",
       "      <td>9.542680e+08</td>\n",
       "      <td>1999.0</td>\n",
       "      <td>172920000.0</td>\n",
       "      <td>28.31</td>\n",
       "      <td>2.69</td>\n",
       "      <td>FLWS</td>\n",
       "      <td>0.76</td>\n",
       "      <td>1-800 FLOWERS.COM, Inc.</td>\n",
       "      <td>28.3</td>\n",
       "      <td>21.65</td>\n",
       "      <td>0.72</td>\n",
       "      <td>35770000.0</td>\n",
       "      <td>10</td>\n",
       "      <td>303</td>\n",
       "      <td>19.41</td>\n",
       "      <td>3.61</td>\n",
       "      <td>2.76</td>\n",
       "      <td>0.0</td>\n",
       "      <td>2.78</td>\n",
       "      <td>1.34</td>\n",
       "      <td>526120000.0</td>\n",
       "      <td>11.96</td>\n",
       "      <td>0.00</td>\n",
       "      <td>0.520</td>\n",
       "      <td>0.72</td>\n",
       "      <td>78100000.0</td>\n",
       "      <td>4.79</td>\n",
       "      <td>2.38</td>\n",
       "      <td>2</td>\n",
       "      <td>10.57</td>\n",
       "      <td>0.0</td>\n",
       "      <td>34370000.0</td>\n",
       "      <td>5.33</td>\n",
       "      <td>15.4100</td>\n",
       "      <td>0.00</td>\n",
       "      <td>0.00</td>\n",
       "    </tr>\n",
       "    <tr>\n",
       "      <td>3</td>\n",
       "      <td>0.0</td>\n",
       "      <td>17.59</td>\n",
       "      <td>0.0</td>\n",
       "      <td>0.13</td>\n",
       "      <td>0.00</td>\n",
       "      <td>4.95</td>\n",
       "      <td>139430000.0</td>\n",
       "      <td>0.0</td>\n",
       "      <td>0.30</td>\n",
       "      <td>1.74</td>\n",
       "      <td>1.483110e+08</td>\n",
       "      <td>0.0</td>\n",
       "      <td>30110000.0</td>\n",
       "      <td>10.77</td>\n",
       "      <td>3.48</td>\n",
       "      <td>FCCY</td>\n",
       "      <td>2.84</td>\n",
       "      <td>1st Constitution Bancorp (NJ)</td>\n",
       "      <td>0.0</td>\n",
       "      <td>9.78</td>\n",
       "      <td>4.95</td>\n",
       "      <td>8630000.0</td>\n",
       "      <td>12</td>\n",
       "      <td>379</td>\n",
       "      <td>6.13</td>\n",
       "      <td>38.79</td>\n",
       "      <td>1.11</td>\n",
       "      <td>0.0</td>\n",
       "      <td>26.98</td>\n",
       "      <td>1.32</td>\n",
       "      <td>50220000.0</td>\n",
       "      <td>0.00</td>\n",
       "      <td>0.30</td>\n",
       "      <td>1.620</td>\n",
       "      <td>4.95</td>\n",
       "      <td>14330000.0</td>\n",
       "      <td>1.11</td>\n",
       "      <td>0.00</td>\n",
       "      <td>3</td>\n",
       "      <td>11.03</td>\n",
       "      <td>80.1</td>\n",
       "      <td>0.0</td>\n",
       "      <td>15.62</td>\n",
       "      <td>17.1200</td>\n",
       "      <td>0.00</td>\n",
       "      <td>1.77</td>\n",
       "    </tr>\n",
       "    <tr>\n",
       "      <td>4</td>\n",
       "      <td>0.0</td>\n",
       "      <td>31.04</td>\n",
       "      <td>0.0</td>\n",
       "      <td>1.36</td>\n",
       "      <td>0.00</td>\n",
       "      <td>4.52</td>\n",
       "      <td>348340000.0</td>\n",
       "      <td>0.0</td>\n",
       "      <td>0.52</td>\n",
       "      <td>1.18</td>\n",
       "      <td>1.133000e+09</td>\n",
       "      <td>0.0</td>\n",
       "      <td>117890000.0</td>\n",
       "      <td>13.25</td>\n",
       "      <td>4.62</td>\n",
       "      <td>SRCE</td>\n",
       "      <td>3.78</td>\n",
       "      <td>1st Source Corporation</td>\n",
       "      <td>0.0</td>\n",
       "      <td>12.09</td>\n",
       "      <td>4.52</td>\n",
       "      <td>25960000.0</td>\n",
       "      <td>12</td>\n",
       "      <td>240</td>\n",
       "      <td>11.61</td>\n",
       "      <td>39.49</td>\n",
       "      <td>1.43</td>\n",
       "      <td>0.0</td>\n",
       "      <td>29.01</td>\n",
       "      <td>1.23</td>\n",
       "      <td>291490000.0</td>\n",
       "      <td>0.00</td>\n",
       "      <td>1.08</td>\n",
       "      <td>3.350</td>\n",
       "      <td>4.52</td>\n",
       "      <td>130670000.0</td>\n",
       "      <td>1.34</td>\n",
       "      <td>0.00</td>\n",
       "      <td>4</td>\n",
       "      <td>11.25</td>\n",
       "      <td>6.5</td>\n",
       "      <td>0.0</td>\n",
       "      <td>31.12</td>\n",
       "      <td>44.0200</td>\n",
       "      <td>1.95</td>\n",
       "      <td>2.48</td>\n",
       "    </tr>\n",
       "  </tbody>\n",
       "</table>\n",
       "</div>"
      ],
      "text/plain": [
       "   Quarterly Revenue Growth  Payout Ratio  Net Income Avi to Common  Beta  \\\n",
       "0                       0.0          0.00                       0.0  0.37   \n",
       "1                       0.0          0.00                       0.0  0.69   \n",
       "2                       0.0          0.00                       0.0  1.24   \n",
       "3                       0.0         17.59                       0.0  0.13   \n",
       "4                       0.0         31.04                       0.0  1.36   \n",
       "\n",
       "   Enterprise Value/EBITDA  Revenue   Total Debt  Beta   \\\n",
       "0                   118.12     0.76          0.0    0.0   \n",
       "1                   -24.40   282.44          0.0    0.0   \n",
       "2                    11.96     0.72   96970000.0    0.0   \n",
       "3                     0.00     4.95  139430000.0    0.0   \n",
       "4                     0.00     4.52  348340000.0    0.0   \n",
       "\n",
       "   Trailing Annual Dividend Rate  Trailing Annual Dividend Yield  \\\n",
       "0                           0.00                            0.00   \n",
       "1                           0.00                            0.00   \n",
       "2                           0.00                            0.00   \n",
       "3                           0.30                            1.74   \n",
       "4                           0.52                            1.18   \n",
       "\n",
       "     Market Cap  IPO Year   Total Cash Trailing P/E  Total Cash Per Share  \\\n",
       "0  2.922200e+07    2014.0    2310000.0            0                  0.38   \n",
       "1  6.654100e+07       0.0    5870000.0            0                  0.19   \n",
       "2  9.542680e+08    1999.0  172920000.0        28.31                  2.69   \n",
       "3  1.483110e+08       0.0   30110000.0        10.77                  3.48   \n",
       "4  1.133000e+09       0.0  117890000.0        13.25                  4.62   \n",
       "\n",
       "  Ticker  Price/Sales                                    Name  \\\n",
       "0    PIH         0.50  1347 Property Insurance Holdings, Inc.   \n",
       "1   TURN       314.30                180 Degree Capital Corp.   \n",
       "2   FLWS         0.76                 1-800 FLOWERS.COM, Inc.   \n",
       "3   FCCY         2.84           1st Constitution Bancorp (NJ)   \n",
       "4   SRCE         3.78                  1st Source Corporation   \n",
       "\n",
       "   Total Debt/Equity  Forward P/E  Enterprise Value  Shares Outstanding  \\\n",
       "0                0.0         0.00              0.76           6010000.0   \n",
       "1                0.0         0.00            282.44          31120000.0   \n",
       "2               28.3        21.65              0.72          35770000.0   \n",
       "3                0.0         9.78              4.95           8630000.0   \n",
       "4                0.0        12.09              4.52          25960000.0   \n",
       "\n",
       "   Sector  Industry  Revenue Per Share  Operating Margin  Price/Book  \\\n",
       "0      12       327               9.73              0.42        0.69   \n",
       "1      12       156               0.01              0.00        0.75   \n",
       "2      10       303              19.41              3.61        2.76   \n",
       "3      12       379               6.13             38.79        1.11   \n",
       "4      12       240              11.61             39.49        1.43   \n",
       "\n",
       "   EPS Beat Ratio  Profit Margin  PEG Ratio  Gross Profit  EBITDA  \\\n",
       "0             0.0          -9.79       0.00    15490000.0  118.12   \n",
       "1             0.0           0.00       0.00           0.0  -24.40   \n",
       "2             0.0           2.78       1.34   526120000.0   11.96   \n",
       "3             0.0          26.98       1.32    50220000.0    0.00   \n",
       "4             0.0          29.01       1.23   291490000.0    0.00   \n",
       "\n",
       "   Forward Annual Dividend Rate  Diluted EPS  Enterprise Value/Revenue  \\\n",
       "0                          0.00       -1.185                      0.76   \n",
       "1                          0.00       -0.091                    282.44   \n",
       "2                          0.00        0.520                      0.72   \n",
       "3                          0.30        1.620                      4.95   \n",
       "4                          1.08        3.350                      4.52   \n",
       "\n",
       "   Operating Cash Flow  Return on Assets  Current Ratio  index  \\\n",
       "0            8630000.0              0.10           1.35      0   \n",
       "1           -5850000.0             -1.64           1.45      1   \n",
       "2           78100000.0              4.79           2.38      2   \n",
       "3           14330000.0              1.11           0.00      3   \n",
       "4          130670000.0              1.34           0.00      4   \n",
       "\n",
       "   Return on Equity  Quarterly Earnings Growth  Levered Free Cash Flow  \\\n",
       "0              0.97                        0.0             -80710000.0   \n",
       "1             -3.19                      -39.9               2120000.0   \n",
       "2             10.57                        0.0              34370000.0   \n",
       "3             11.03                       80.1                     0.0   \n",
       "4             11.25                        6.5                     0.0   \n",
       "\n",
       "   Book Value Per Share    Price  5 Year Average Dividend Yield  \\\n",
       "0                  7.00   4.8348                           0.00   \n",
       "1                  2.82   2.1294                           0.00   \n",
       "2                  5.33  15.4100                           0.00   \n",
       "3                 15.62  17.1200                           0.00   \n",
       "4                 31.12  44.0200                           1.95   \n",
       "\n",
       "   Forward Annual Dividend Yield  \n",
       "0                           0.00  \n",
       "1                           0.00  \n",
       "2                           0.00  \n",
       "3                           1.77  \n",
       "4                           2.48  "
      ]
     },
     "execution_count": 5,
     "metadata": {},
     "output_type": "execute_result"
    }
   ],
   "source": [
    "def parse_col_attributes(col_name):\n",
    "    replacements = {\n",
    "                        '(TTM)' : '',\n",
    "                        '(ttm)' : '',\n",
    "                        '(YOY)' : '',\n",
    "                        ' (intraday)' : '',\n",
    "                        ' (5 yr expected)' : '',\n",
    "                        '(5yr Expected)': '',\n",
    "                        '(3Y Monthly)' : '',\n",
    "                        ' (3Y Monthly)' : '',\n",
    "                        ' Avi to Common' : '',\n",
    "                        'Trailing Annual ' : ''\n",
    "                   }\n",
    "    for code, replacement in replacements.items():\n",
    "        col_name = col_name.replace(code, replacement)\n",
    "    return col_name\n",
    "\n",
    "# Get the unique column values in the dataframe so we can combine data\n",
    "unique_attributes = set([parse_col_attributes(col) for col in financial_data.columns])\n",
    "    \n",
    "# Iterate through attributes and fill master_data\n",
    "master_data = pd.DataFrame()\n",
    "for attribute in tqdm(unique_attributes):\n",
    "    supporting_attributes = [x for x in financial_data.columns if attribute in x]\n",
    "    master_data[attribute] = financial_data[supporting_attributes[0]]\n",
    "    # Combine columns with same attribute using the non zero value\n",
    "    for i in range(1, len(supporting_attributes)):\n",
    "        master_data[attribute] = master_data[attribute].combine(financial_data[supporting_attributes[i]], lambda x, y: x if (y == 0 or float('nan')) else y)\n",
    "    \n",
    "master_data.head()"
   ]
  },
  {
   "cell_type": "code",
   "execution_count": 11,
   "metadata": {},
   "outputs": [
    {
     "name": "stdout",
     "output_type": "stream",
     "text": [
      "Index(['Quarterly Revenue Growth', 'Payout Ratio', 'Net Income Avi to Common',\n",
      "       'Beta', 'Enterprise Value/EBITDA', 'Revenue', 'Total Debt', 'Beta ',\n",
      "       'Trailing Annual Dividend Rate', 'Trailing Annual Dividend Yield',\n",
      "       'Market Cap', 'IPO Year', 'Total Cash', 'Trailing P/E',\n",
      "       'Total Cash Per Share', 'Ticker', 'Price/Sales', 'Name',\n",
      "       'Total Debt/Equity', 'Forward P/E', 'Enterprise Value',\n",
      "       'Shares Outstanding', 'Sector', 'Industry', 'Revenue Per Share',\n",
      "       'Operating Margin', 'Price/Book', 'EPS Beat Ratio', 'Profit Margin',\n",
      "       'PEG Ratio', 'Gross Profit', 'EBITDA', 'Forward Annual Dividend Rate',\n",
      "       'Diluted EPS', 'Enterprise Value/Revenue', 'Operating Cash Flow',\n",
      "       'Return on Assets', 'Current Ratio', 'index', 'Return on Equity',\n",
      "       'Quarterly Earnings Growth', 'Levered Free Cash Flow',\n",
      "       'Book Value Per Share', 'Price', '5 Year Average Dividend Yield',\n",
      "       'Forward Annual Dividend Yield'],\n",
      "      dtype='object')\n"
     ]
    }
   ],
   "source": [
    "master_data_truncated = master_data.head(int(len(master_data) / 10))\n",
    "print(master_data.columns)"
   ]
  },
  {
   "cell_type": "code",
   "execution_count": 10,
   "metadata": {},
   "outputs": [
    {
     "name": "stderr",
     "output_type": "stream",
     "text": [
      "C:\\Users\\kevin\\Anaconda3\\envs\\tensorflow_env\\lib\\site-packages\\xgboost\\core.py:587: FutureWarning: Series.base is deprecated and will be removed in a future version\n",
      "  if getattr(data, 'base', None) is not None and \\\n"
     ]
    },
    {
     "data": {
      "text/plain": [
       "GridSearchCV(cv=5, error_score='raise-deprecating',\n",
       "             estimator=XGBRegressor(base_score=0.5, booster='gbtree',\n",
       "                                    colsample_bylevel=1, colsample_bynode=1,\n",
       "                                    colsample_bytree=1, gamma=0,\n",
       "                                    importance_type='gain', learning_rate=0.1,\n",
       "                                    max_delta_step=0, max_depth=3,\n",
       "                                    min_child_weight=1, missing=None,\n",
       "                                    n_estimators=100, n_jobs=1, nthread=None,\n",
       "                                    objective='reg:squarederror',\n",
       "                                    random_state=0, reg_alpha=0, reg_lambda=1,\n",
       "                                    scale_pos_weight=1, seed=None, silent=None,\n",
       "                                    subsample=1, verbosity=1),\n",
       "             iid=False, n_jobs=4,\n",
       "             param_grid={'gamma': [0], 'learning_rate': [0.25],\n",
       "                         'max_depth': [3], 'min_child_weight': [4],\n",
       "                         'reg_alpha': [0.1]},\n",
       "             pre_dispatch='2*n_jobs', refit=True, return_train_score=False,\n",
       "             scoring=None, verbose=0)"
      ]
     },
     "execution_count": 10,
     "metadata": {},
     "output_type": "execute_result"
    },
    {
     "name": "stdout",
     "output_type": "stream",
     "text": [
      "Test Score: 0.9998748773039949\n",
      "RMSE: 0.619391\n"
     ]
    }
   ],
   "source": [
    "ignore_columns = ['Ticker', 'Name', 'IPO Year', 'Payout Ratio', 'Enterprise Value/EBITDA', 'Enterprise Value/Revenue',\n",
    "                 'Trailing Annual Dividend Rate', 'Forward Annual Dividend Rate', 'Forward Annual Dividend Yield',\n",
    "                 '5 Year Average Dividend Yield', 'EPS Beat Ratio']\n",
    "categoricals = ['Sector', 'Industry']\n",
    "# PuStoret the data we want to learn from in X\n",
    "X = master_data_truncated[[c for c in master_data_truncated.columns if c not in ignore_columns]]\n",
    "for c in X.columns:\n",
    "    X[c] = pd.to_numeric(X[c], errors='coerce')\n",
    "X = pd.get_dummies(X, columns=categoricals)\n",
    "Y = Y.head(int(len(master_data) / 10))\n",
    "# Get training and testing sets\n",
    "X_train, X_test, y_train, y_test = train_test_split(X, Y, test_size=0.1, random_state=123)\n",
    "\n",
    "# Hyperparameter tune an XGBoost model\n",
    "param_test = {\n",
    "    'max_depth':[3],\n",
    "    'min_child_weight':[4],\n",
    "    'learning_rate':[.25],\n",
    "    'gamma':[0],\n",
    "    'reg_alpha':[ 0.1]#, .12, .14]\n",
    "}\n",
    "xgbr = xgb.XGBRegressor(objective='reg:squarederror')\n",
    "gsearch = GridSearchCV(estimator = xgbr ,\n",
    "param_grid = param_test,n_jobs=4,iid=False, cv=5)\n",
    "\n",
    "gsearch.fit(X_train, y_train)\n",
    "print(\"Test Score: \" + str(gsearch.best_estimator_.score(X_test, y_test)))\n",
    "model = gsearch.best_estimator_\n",
    "preds = model.predict(X_test)\n",
    "rmse = np.sqrt(mean_squared_error(y_test, preds))\n",
    "print(\"RMSE: %f\" % (rmse))"
   ]
  },
  {
   "cell_type": "code",
   "execution_count": null,
   "metadata": {},
   "outputs": [],
   "source": [
    "company = Company(\"AAPL\")\n",
    "company.fetch_data()"
   ]
  },
  {
   "cell_type": "code",
   "execution_count": 9,
   "metadata": {},
   "outputs": [],
   "source": [
    "def emb_init(x):\n",
    "    x = x.weight.data\n",
    "    sc = 2/(x.size(1)+1)\n",
    "    x.uniform_(-sc,sc)\n",
    "    \n",
    "def inv_y(y): \n",
    "    return np.exp(y)\n",
    "    \n",
    "def rmse(targ, y_pred):\n",
    "    #print(inv_y(y_pred), inv_y(targ))\n",
    "    #return np.sqrt(mean_squared_error(inv_y(y_pred), inv_y(targ))) #.detach().numpy()\n",
    "    return np.sqrt(mean_squared_error(y_pred, targ))\n",
    "\n",
    "\n",
    "class MixedInputModel(nn.Module):\n",
    "    def __init__(self, emb_szs, n_cont, emb_drop, out_sz, szs, drops, y_range, use_bn=True):\n",
    "        super().__init__()\n",
    "        for i,(c,s) in enumerate(emb_szs): assert c > 1, \"cardinality must be >=2, got emb_szs[{i}]: ({c},{s})\"\n",
    "        self.embs = nn.ModuleList([nn.Embedding(c, s) for c,s in emb_szs])\n",
    "        for emb in self.embs: emb_init(emb)\n",
    "        n_emb = sum(e.embedding_dim for e in self.embs)\n",
    "        self.n_emb, self.n_cont=n_emb, n_cont\n",
    "        \n",
    "        szs = [n_emb+n_cont] + szs\n",
    "        self.lins = nn.ModuleList([nn.Linear(szs[i], szs[i+1]) for i in range(len(szs)-1)])\n",
    "        self.bns = nn.ModuleList([nn.BatchNorm1d(sz) for sz in szs[1:]])\n",
    "        for o in self.lins: nn.init.kaiming_normal_(o.weight.data)\n",
    "        self.outp = nn.Linear(szs[-1], out_sz)\n",
    "        nn.init.kaiming_normal_(self.outp.weight.data)\n",
    "\n",
    "        self.emb_drop = nn.Dropout(emb_drop)\n",
    "        self.drops = nn.ModuleList([nn.Dropout(drop) for drop in drops])\n",
    "        self.bn = nn.BatchNorm1d(n_cont)\n",
    "        self.use_bn,self.y_range = use_bn,y_range\n",
    "\n",
    "    def forward(self, x_cat, x_cont):\n",
    "        if self.n_emb != 0:\n",
    "            x = [e(x_cat[:,i]) for i,e in enumerate(self.embs)]\n",
    "            x = torch.cat(x, 1)\n",
    "            x = self.emb_drop(x)\n",
    "        if self.n_cont != 0:\n",
    "            x2 = self.bn(x_cont)\n",
    "            x = torch.cat([x, x2], 1) if self.n_emb != 0 else x2\n",
    "        for l,d,b in zip(self.lins, self.drops, self.bns):\n",
    "            x = F.relu(l(x))\n",
    "            if self.use_bn: x = b(x)\n",
    "            x = d(x)\n",
    "        x = self.outp(x)\n",
    "        if self.y_range:\n",
    "            x = torch.sigmoid(x)\n",
    "            x = x*(self.y_range[1] - self.y_range[0])\n",
    "            x = x+self.y_range[0]\n",
    "        return x.squeeze()"
   ]
  },
  {
   "cell_type": "code",
   "execution_count": 16,
   "metadata": {
    "collapsed": false,
    "jupyter": {
     "outputs_hidden": false
    }
   },
   "outputs": [
    {
     "name": "stdout",
     "output_type": "stream",
     "text": [
      "Using: cuda:0\n"
     ]
    },
    {
     "name": "stderr",
     "output_type": "stream",
     "text": [
      "C:\\Users\\kevin\\Anaconda3\\envs\\tensorflow_env\\lib\\site-packages\\tqdm\\std.py:648: FutureWarning: The Panel class is removed from pandas. Accessing it from the top-level namespace will also be removed in the next version\n",
      "  from pandas import Panel\n"
     ]
    }
   ],
   "source": [
    "y_range = (0, y_train.max()*1.2)\n",
    "device = torch.device(\"cuda:0\" if torch.cuda.is_available() else \"cpu\")\n",
    "print(\"Using: \" + str(device))\n",
    "from tqdm import tqdm, tqdm_notebook, tnrange\n",
    "tqdm.pandas(desc='Progress')\n",
    "\n",
    "cat_sz = [(c, financial_data[c].max()+1) for c in categorical]\n",
    "\n",
    "\n",
    "emb_szs = [(c, min(50, (c+1)//2)) for _,c in cat_sz]\n",
    "\n",
    "\n",
    "net = MixedInputModel(emb_szs=emb_szs,\n",
    "    n_cont=len(financial_data.columns)-len(categorical) - 4, \n",
    "                    emb_drop=0.04,\n",
    "                    out_sz=1, \n",
    "                    szs=[1000,500,250], \n",
    "                    drops=[0.001,0.01,0.01], \n",
    "                    y_range=y_range).to(device)"
   ]
  },
  {
   "cell_type": "code",
   "execution_count": 17,
   "metadata": {},
   "outputs": [],
   "source": [
    "def fit(model, train_dl, val_dl, loss_fn, opt, scheduler, epochs=3):\n",
    "    num_batch = len(train_dl)\n",
    "    for epoch in tnrange(epochs):      \n",
    "        y_true_train = list()\n",
    "        y_pred_train = list()\n",
    "        total_loss_train = 0          \n",
    "        t = tqdm(iter(train_dl), leave=False, total=num_batch)\n",
    "        for cat, cont, y in t:\n",
    "            cat = cat.cuda()\n",
    "            cont = cont.cuda()\n",
    "            y = y.cuda()\n",
    "            \n",
    "            t.set_description('Epoch {epoch}')\n",
    "            \n",
    "            opt.zero_grad()\n",
    "            pred = model(cat, cont)\n",
    "            loss = loss_fn(pred, y)\n",
    "            loss.backward()\n",
    "            lr[epoch].append(opt.param_groups[0]['lr'])\n",
    "            tloss[epoch].append(loss.item())\n",
    "            opt.step()\n",
    "            scheduler.step()\n",
    "            \n",
    "            t.set_postfix(loss=loss.item())\n",
    "            \n",
    "            y_true_train += list(y.cpu().data.numpy())\n",
    "            y_pred_train += list(pred.cpu().data.numpy())\n",
    "            total_loss_train += loss.item()\n",
    "        train_acc = rmse(y_true_train, y_pred_train)\n",
    "        train_loss = total_loss_train/len(train_dl)\n",
    "        \n",
    "        if val_dl:\n",
    "            y_true_val = list()\n",
    "            y_pred_val = list()\n",
    "            total_loss_val = 0\n",
    "            for cat, cont, y in tqdm(val_dl, leave=False):\n",
    "                cat = cat.cuda()\n",
    "                cont = cont.cuda()\n",
    "                y = y.cuda()\n",
    "                pred = model(cat, cont)\n",
    "                loss = loss_fn(pred, y)\n",
    "                \n",
    "                y_true_val += list(y.cpu().data.numpy())\n",
    "                y_pred_val += list(pred.cpu().data.numpy())\n",
    "                total_loss_val += loss.item()\n",
    "                vloss[epoch].append(loss.item())\n",
    "            valacc = rmse(y_true_val, y_pred_val)\n",
    "            valloss = total_loss_val/len(valdl)\n",
    "            print(f'Epoch {epoch}: train_loss: {train_loss:.4f} train_rmse: {train_acc:.4f} | val_loss: {valloss:.4f} val_rmse: {valacc:.4f}')\n",
    "        else:\n",
    "            print(f'Epoch {epoch}: train_loss: {train_loss:.4f} train_rmse: {train_acc:.4f}')\n",
    "    \n",
    "    return lr, tloss, vloss"
   ]
  },
  {
   "cell_type": "code",
   "execution_count": 18,
   "metadata": {},
   "outputs": [
    {
     "data": {
      "application/vnd.jupyter.widget-view+json": {
       "model_id": "1b3ff2eb8ec147c4be2261c4878c48b6",
       "version_major": 2,
       "version_minor": 0
      },
      "text/plain": [
       "HBox(children=(IntProgress(value=0, max=50), HTML(value='')))"
      ]
     },
     "metadata": {},
     "output_type": "display_data"
    },
    {
     "name": "stderr",
     "output_type": "stream",
     "text": [
      "                                                                            \r"
     ]
    },
    {
     "name": "stdout",
     "output_type": "stream",
     "text": [
      "Epoch 0: train_loss: 143187.8867 train_rmse: 380.3524 | val_loss: 61331.3984 val_rmse: 247.9860\n"
     ]
    },
    {
     "name": "stderr",
     "output_type": "stream",
     "text": [
      "                                                                           \r"
     ]
    },
    {
     "name": "stdout",
     "output_type": "stream",
     "text": [
      "Epoch 1: train_loss: 42662.5648 train_rmse: 206.4694 | val_loss: 23839.9443 val_rmse: 154.2657\n"
     ]
    },
    {
     "name": "stderr",
     "output_type": "stream",
     "text": [
      "                                                                           \r"
     ]
    },
    {
     "name": "stdout",
     "output_type": "stream",
     "text": [
      "Epoch 2: train_loss: 23486.3899 train_rmse: 149.1934 | val_loss: 19826.0840 val_rmse: 140.9616\n"
     ]
    },
    {
     "name": "stderr",
     "output_type": "stream",
     "text": [
      "                                                                            \r"
     ]
    },
    {
     "name": "stdout",
     "output_type": "stream",
     "text": [
      "Epoch 3: train_loss: 14543.7830 train_rmse: 120.0164 | val_loss: 11771.1118 val_rmse: 108.3218\n"
     ]
    },
    {
     "name": "stderr",
     "output_type": "stream",
     "text": [
      "                                                                            \r"
     ]
    },
    {
     "name": "stdout",
     "output_type": "stream",
     "text": [
      "Epoch 4: train_loss: 14461.9428 train_rmse: 116.8064 | val_loss: 15204.5037 val_rmse: 123.2112\n"
     ]
    },
    {
     "name": "stderr",
     "output_type": "stream",
     "text": [
      "                                                                           \r"
     ]
    },
    {
     "name": "stdout",
     "output_type": "stream",
     "text": [
      "Epoch 5: train_loss: 12083.2050 train_rmse: 109.4976 | val_loss: 9274.1831 val_rmse: 96.3269\n"
     ]
    },
    {
     "name": "stderr",
     "output_type": "stream",
     "text": [
      "                                                                           \r"
     ]
    },
    {
     "name": "stdout",
     "output_type": "stream",
     "text": [
      "Epoch 6: train_loss: 9508.1729 train_rmse: 97.7069 | val_loss: 7797.2927 val_rmse: 88.3143\n"
     ]
    },
    {
     "name": "stderr",
     "output_type": "stream",
     "text": [
      "                                                                           \r"
     ]
    },
    {
     "name": "stdout",
     "output_type": "stream",
     "text": [
      "Epoch 7: train_loss: 7159.7936 train_rmse: 85.4145 | val_loss: 4835.0792 val_rmse: 69.6528\n"
     ]
    },
    {
     "name": "stderr",
     "output_type": "stream",
     "text": [
      "                                                                            \r"
     ]
    },
    {
     "name": "stdout",
     "output_type": "stream",
     "text": [
      "Epoch 8: train_loss: 2676.9693 train_rmse: 52.2332 | val_loss: 2998.1369 val_rmse: 54.8395\n"
     ]
    },
    {
     "name": "stderr",
     "output_type": "stream",
     "text": [
      "                                                                           \r"
     ]
    },
    {
     "name": "stdout",
     "output_type": "stream",
     "text": [
      "Epoch 9: train_loss: 1735.1614 train_rmse: 41.5855 | val_loss: 2740.0311 val_rmse: 52.4122\n"
     ]
    },
    {
     "name": "stderr",
     "output_type": "stream",
     "text": [
      "                                                                           \r"
     ]
    },
    {
     "name": "stdout",
     "output_type": "stream",
     "text": [
      "Epoch 10: train_loss: 1583.4377 train_rmse: 39.3441 | val_loss: 1819.1826 val_rmse: 42.5806\n"
     ]
    },
    {
     "name": "stderr",
     "output_type": "stream",
     "text": [
      "                                                                           \r"
     ]
    },
    {
     "name": "stdout",
     "output_type": "stream",
     "text": [
      "Epoch 11: train_loss: 1415.2400 train_rmse: 37.3986 | val_loss: 2401.2045 val_rmse: 48.9974\n"
     ]
    },
    {
     "name": "stderr",
     "output_type": "stream",
     "text": [
      "                                                                            \r"
     ]
    },
    {
     "name": "stdout",
     "output_type": "stream",
     "text": [
      "Epoch 12: train_loss: 2487.3224 train_rmse: 48.3532 | val_loss: 3380.5993 val_rmse: 58.3112\n"
     ]
    },
    {
     "name": "stderr",
     "output_type": "stream",
     "text": [
      "                                                                            \r"
     ]
    },
    {
     "name": "stdout",
     "output_type": "stream",
     "text": [
      "Epoch 13: train_loss: 1985.2265 train_rmse: 44.9665 | val_loss: 2437.4544 val_rmse: 49.4118\n"
     ]
    },
    {
     "name": "stderr",
     "output_type": "stream",
     "text": [
      "                                                                            \r"
     ]
    },
    {
     "name": "stdout",
     "output_type": "stream",
     "text": [
      "Epoch 14: train_loss: 2075.7595 train_rmse: 45.7832 | val_loss: 2451.0959 val_rmse: 49.5564\n"
     ]
    },
    {
     "name": "stderr",
     "output_type": "stream",
     "text": [
      "                                                                           \r"
     ]
    },
    {
     "name": "stdout",
     "output_type": "stream",
     "text": [
      "Epoch 15: train_loss: 1646.2713 train_rmse: 40.7855 | val_loss: 1711.1389 val_rmse: 41.3387\n"
     ]
    },
    {
     "name": "stderr",
     "output_type": "stream",
     "text": [
      "                                                                            \r"
     ]
    },
    {
     "name": "stdout",
     "output_type": "stream",
     "text": [
      "Epoch 16: train_loss: 1342.1066 train_rmse: 36.3244 | val_loss: 2706.0354 val_rmse: 51.7468\n"
     ]
    },
    {
     "name": "stderr",
     "output_type": "stream",
     "text": [
      "                                                                            \r"
     ]
    },
    {
     "name": "stdout",
     "output_type": "stream",
     "text": [
      "Epoch 17: train_loss: 1232.7868 train_rmse: 34.8426 | val_loss: 2697.6000 val_rmse: 52.0755\n"
     ]
    },
    {
     "name": "stderr",
     "output_type": "stream",
     "text": [
      "                                                                            \r"
     ]
    },
    {
     "name": "stdout",
     "output_type": "stream",
     "text": [
      "Epoch 18: train_loss: 1523.0074 train_rmse: 38.8335 | val_loss: 2263.8178 val_rmse: 47.4521\n"
     ]
    },
    {
     "name": "stderr",
     "output_type": "stream",
     "text": [
      "                                                                            \r"
     ]
    },
    {
     "name": "stdout",
     "output_type": "stream",
     "text": [
      "Epoch 19: train_loss: 1195.1422 train_rmse: 34.6402 | val_loss: 1810.0902 val_rmse: 42.5341\n"
     ]
    },
    {
     "name": "stderr",
     "output_type": "stream",
     "text": [
      "                                                                           \r"
     ]
    },
    {
     "name": "stdout",
     "output_type": "stream",
     "text": [
      "Epoch 20: train_loss: 1056.3391 train_rmse: 32.4586 | val_loss: 1874.5223 val_rmse: 43.2818\n"
     ]
    },
    {
     "name": "stderr",
     "output_type": "stream",
     "text": [
      "                                                                           \r"
     ]
    },
    {
     "name": "stdout",
     "output_type": "stream",
     "text": [
      "Epoch 21: train_loss: 922.3789 train_rmse: 30.5236 | val_loss: 1887.0161 val_rmse: 43.4477\n"
     ]
    },
    {
     "name": "stderr",
     "output_type": "stream",
     "text": [
      "                                                                           \r"
     ]
    },
    {
     "name": "stdout",
     "output_type": "stream",
     "text": [
      "Epoch 22: train_loss: 954.3424 train_rmse: 30.7996 | val_loss: 1723.1543 val_rmse: 41.3798\n"
     ]
    },
    {
     "name": "stderr",
     "output_type": "stream",
     "text": [
      "                                                                            \r"
     ]
    },
    {
     "name": "stdout",
     "output_type": "stream",
     "text": [
      "Epoch 23: train_loss: 950.9985 train_rmse: 30.2787 | val_loss: 1593.2052 val_rmse: 39.8929\n"
     ]
    },
    {
     "name": "stderr",
     "output_type": "stream",
     "text": [
      "                                                                           \r"
     ]
    },
    {
     "name": "stdout",
     "output_type": "stream",
     "text": [
      "Epoch 24: train_loss: 974.9548 train_rmse: 31.5040 | val_loss: 1877.6741 val_rmse: 43.3968\n"
     ]
    },
    {
     "name": "stderr",
     "output_type": "stream",
     "text": [
      "                                                                            \r"
     ]
    },
    {
     "name": "stdout",
     "output_type": "stream",
     "text": [
      "Epoch 25: train_loss: 1002.8527 train_rmse: 30.8385 | val_loss: 1522.5733 val_rmse: 38.9560\n"
     ]
    },
    {
     "name": "stderr",
     "output_type": "stream",
     "text": [
      "                                                                           \r"
     ]
    },
    {
     "name": "stdout",
     "output_type": "stream",
     "text": [
      "Epoch 26: train_loss: 822.8628 train_rmse: 28.9190 | val_loss: 1768.8363 val_rmse: 42.1615\n"
     ]
    },
    {
     "name": "stderr",
     "output_type": "stream",
     "text": [
      "                                                                            \r"
     ]
    },
    {
     "name": "stdout",
     "output_type": "stream",
     "text": [
      "Epoch 27: train_loss: 930.4333 train_rmse: 29.7077 | val_loss: 1553.0998 val_rmse: 39.3339\n"
     ]
    },
    {
     "name": "stderr",
     "output_type": "stream",
     "text": [
      "                                                                           \r"
     ]
    },
    {
     "name": "stdout",
     "output_type": "stream",
     "text": [
      "Epoch 28: train_loss: 774.7160 train_rmse: 27.9390 | val_loss: 1274.6051 val_rmse: 35.7860\n"
     ]
    },
    {
     "name": "stderr",
     "output_type": "stream",
     "text": [
      "                                                                           \r"
     ]
    },
    {
     "name": "stdout",
     "output_type": "stream",
     "text": [
      "Epoch 29: train_loss: 779.9548 train_rmse: 28.0416 | val_loss: 1566.4821 val_rmse: 39.6351\n"
     ]
    },
    {
     "name": "stderr",
     "output_type": "stream",
     "text": [
      "                                                                            \r"
     ]
    },
    {
     "name": "stdout",
     "output_type": "stream",
     "text": [
      "Epoch 30: train_loss: 834.5501 train_rmse: 28.2992 | val_loss: 1703.0353 val_rmse: 41.2271\n"
     ]
    },
    {
     "name": "stderr",
     "output_type": "stream",
     "text": [
      "                                                                           \r"
     ]
    },
    {
     "name": "stdout",
     "output_type": "stream",
     "text": [
      "Epoch 31: train_loss: 717.7432 train_rmse: 27.0968 | val_loss: 1937.1578 val_rmse: 44.0460\n"
     ]
    },
    {
     "name": "stderr",
     "output_type": "stream",
     "text": [
      "                                                                            \r"
     ]
    },
    {
     "name": "stdout",
     "output_type": "stream",
     "text": [
      "Epoch 32: train_loss: 856.3053 train_rmse: 28.8783 | val_loss: 1429.7929 val_rmse: 37.8479\n"
     ]
    },
    {
     "name": "stderr",
     "output_type": "stream",
     "text": [
      "                                                                            \r"
     ]
    },
    {
     "name": "stdout",
     "output_type": "stream",
     "text": [
      "Epoch 33: train_loss: 744.3978 train_rmse: 26.9310 | val_loss: 1624.4129 val_rmse: 40.3265\n"
     ]
    },
    {
     "name": "stderr",
     "output_type": "stream",
     "text": [
      "                                                                           \r"
     ]
    },
    {
     "name": "stdout",
     "output_type": "stream",
     "text": [
      "Epoch 34: train_loss: 739.6438 train_rmse: 27.0740 | val_loss: 1518.7814 val_rmse: 39.0461\n"
     ]
    },
    {
     "name": "stderr",
     "output_type": "stream",
     "text": [
      "                                                                            \r"
     ]
    },
    {
     "name": "stdout",
     "output_type": "stream",
     "text": [
      "Epoch 35: train_loss: 977.4771 train_rmse: 29.8315 | val_loss: 1635.8975 val_rmse: 40.3657\n"
     ]
    },
    {
     "name": "stderr",
     "output_type": "stream",
     "text": [
      "                                                                           \r"
     ]
    },
    {
     "name": "stdout",
     "output_type": "stream",
     "text": [
      "Epoch 36: train_loss: 819.2220 train_rmse: 28.8090 | val_loss: 1501.9390 val_rmse: 38.8157\n"
     ]
    },
    {
     "name": "stderr",
     "output_type": "stream",
     "text": [
      "                                                                            \r"
     ]
    },
    {
     "name": "stdout",
     "output_type": "stream",
     "text": [
      "Epoch 37: train_loss: 804.0188 train_rmse: 28.1621 | val_loss: 2632.2092 val_rmse: 51.0499\n"
     ]
    },
    {
     "name": "stderr",
     "output_type": "stream",
     "text": [
      "                                                                           \r"
     ]
    },
    {
     "name": "stdout",
     "output_type": "stream",
     "text": [
      "Epoch 38: train_loss: 850.7130 train_rmse: 29.4151 | val_loss: 1583.0110 val_rmse: 39.6255\n"
     ]
    },
    {
     "name": "stderr",
     "output_type": "stream",
     "text": [
      "                                                                           \r"
     ]
    },
    {
     "name": "stdout",
     "output_type": "stream",
     "text": [
      "Epoch 39: train_loss: 694.2683 train_rmse: 26.3039 | val_loss: 1248.8002 val_rmse: 35.3439\n"
     ]
    },
    {
     "name": "stderr",
     "output_type": "stream",
     "text": [
      "                                                                           \r"
     ]
    },
    {
     "name": "stdout",
     "output_type": "stream",
     "text": [
      "Epoch 40: train_loss: 790.5785 train_rmse: 27.3483 | val_loss: 1745.4403 val_rmse: 41.7439\n"
     ]
    },
    {
     "name": "stderr",
     "output_type": "stream",
     "text": [
      "                                                                           \r"
     ]
    },
    {
     "name": "stdout",
     "output_type": "stream",
     "text": [
      "Epoch 41: train_loss: 661.1110 train_rmse: 25.9517 | val_loss: 1591.1133 val_rmse: 39.9033\n"
     ]
    },
    {
     "name": "stderr",
     "output_type": "stream",
     "text": [
      "                                                                           \r"
     ]
    },
    {
     "name": "stdout",
     "output_type": "stream",
     "text": [
      "Epoch 42: train_loss: 701.0955 train_rmse: 26.8022 | val_loss: 2888.9241 val_rmse: 53.7998\n"
     ]
    },
    {
     "name": "stderr",
     "output_type": "stream",
     "text": [
      "                                                                           \r"
     ]
    },
    {
     "name": "stdout",
     "output_type": "stream",
     "text": [
      "Epoch 43: train_loss: 2264.5892 train_rmse: 48.1293 | val_loss: 1578.8861 val_rmse: 39.6327\n"
     ]
    },
    {
     "name": "stderr",
     "output_type": "stream",
     "text": [
      "                                                                           \r"
     ]
    },
    {
     "name": "stdout",
     "output_type": "stream",
     "text": [
      "Epoch 44: train_loss: 984.7735 train_rmse: 31.5662 | val_loss: 1935.8121 val_rmse: 44.0901\n"
     ]
    },
    {
     "name": "stderr",
     "output_type": "stream",
     "text": [
      "                                                                            \r"
     ]
    },
    {
     "name": "stdout",
     "output_type": "stream",
     "text": [
      "Epoch 45: train_loss: 942.4435 train_rmse: 29.5984 | val_loss: 1576.4538 val_rmse: 39.7493\n"
     ]
    },
    {
     "name": "stderr",
     "output_type": "stream",
     "text": [
      "                                                                           \r"
     ]
    },
    {
     "name": "stdout",
     "output_type": "stream",
     "text": [
      "Epoch 46: train_loss: 781.2460 train_rmse: 28.2044 | val_loss: 1591.6786 val_rmse: 40.0234\n"
     ]
    },
    {
     "name": "stderr",
     "output_type": "stream",
     "text": [
      "                                                                           \r"
     ]
    },
    {
     "name": "stdout",
     "output_type": "stream",
     "text": [
      "Epoch 47: train_loss: 717.0555 train_rmse: 26.8132 | val_loss: 1485.5380 val_rmse: 38.5979\n"
     ]
    },
    {
     "name": "stderr",
     "output_type": "stream",
     "text": [
      "                                                                           \r"
     ]
    },
    {
     "name": "stdout",
     "output_type": "stream",
     "text": [
      "Epoch 48: train_loss: 762.0789 train_rmse: 27.9332 | val_loss: 1337.8738 val_rmse: 36.6281\n"
     ]
    },
    {
     "name": "stderr",
     "output_type": "stream",
     "text": [
      "                                                                           \r"
     ]
    },
    {
     "name": "stdout",
     "output_type": "stream",
     "text": [
      "Epoch 49: train_loss: 892.1409 train_rmse: 30.2684 | val_loss: 1167.5138 val_rmse: 34.1897\n",
      "\n"
     ]
    }
   ],
   "source": [
    "opt = optim.Adam(net.parameters(), 1e-2)\n",
    "lr_cosine = lr_scheduler.CosineAnnealingLR(opt, 1000)\n",
    " \n",
    "lr = defaultdict(list)\n",
    "tloss = defaultdict(list)\n",
    "vloss = defaultdict(list)\n",
    " \n",
    "lr, tloss, vloss = fit(model=net, train_dl=traindl, val_dl=valdl, loss_fn=F.mse_loss, opt=opt, scheduler=lr_cosine, epochs=50)"
   ]
  },
  {
   "cell_type": "code",
   "execution_count": 19,
   "metadata": {},
   "outputs": [
    {
     "data": {
      "image/png": "[encoded data removed]",
      "text/plain": [
       "<Figure size 576x432 with 1 Axes>"
      ]
     },
     "metadata": {
      "needs_background": "light"
     },
     "output_type": "display_data"
    }
   ],
   "source": [
    "t = [np.mean(tloss[el]) for el in tloss]\n",
    "v = [np.mean(vloss[el]) for el in vloss]\n",
    "p = pd.DataFrame({'Train Loss': t, 'Validation Loss': v, 'Epochs': range(50)})\n",
    "\n",
    "_ = p.plot(x='Epochs', y=['Train Loss', 'Validation Loss'], \n",
    "           title='Train and Validation Loss over Epochs')"
   ]
  },
  {
   "cell_type": "code",
   "execution_count": 20,
   "metadata": {},
   "outputs": [],
   "source": [
    "l = [x for x in feature_cols if x not in ['Industry', 'Sector']]\n",
    "#m.eval()\n",
    "\n",
    "X = financial_data[feature_cols]\n",
    "Y = financial_data['Price']\n",
    "\n",
    "X_train, X_test, y_train, y_test = train_test_split(X, Y, test_size=0.3, random_state=123)\n",
    "    \n",
    "# Covert to dataloaders\n",
    "traindl = apply_dl(X_train, y_train, categorical)\n",
    "valdl = apply_dl(X_test, y_test, categorical)\n",
    "\n",
    "one, two, three,  four,  five = valdl\n",
    "\n",
    "y_pred = m(one[0].cuda(), one[1].cuda())"
   ]
  },
  {
   "cell_type": "code",
   "execution_count": null,
   "metadata": {},
   "outputs": [],
   "source": []
  }
 ],
 "metadata": {
  "kernelspec": {
   "display_name": "tensorflow",
   "language": "python",
   "name": "tensorflow"
  },
  "language_info": {
   "codemirror_mode": {
    "name": "ipython",
    "version": 3
   },
   "file_extension": ".py",
   "mimetype": "text/x-python",
   "name": "python",
   "nbconvert_exporter": "python",
   "pygments_lexer": "ipython3",
   "version": "3.7.6"
  },
  "widgets": {
   "state": {
    "633ee280727a4e038b3607a73dbd767e": {
     "views": [
      {
       "cell_index": 7
      }
     ]
    },
    "b9a531e5be584c349f802bb340fde436": {
     "views": [
      {
       "cell_index": 7
      }
     ]
    }
   },
   "version": "1.2.0"
  }
 },
 "nbformat": 4,
 "nbformat_minor": 4
}
